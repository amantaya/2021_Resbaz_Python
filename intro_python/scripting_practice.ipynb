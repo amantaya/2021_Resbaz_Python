{
 "cells": [
  {
   "cell_type": "code",
   "execution_count": null,
   "metadata": {},
   "outputs": [],
   "source": [
    "import pandas as pd\n",
    "import glob"
   ]
  },
  {
   "cell_type": "code",
   "execution_count": null,
   "metadata": {},
   "outputs": [],
   "source": [
    "def collect_files(search_dir, search_criteria):\n",
    "    \"\"\" Function needs a directory to search in and a file type to search for\n",
    "    It grabs all files matching the pattern the user specifies\"\"\"\n",
    "    get_files = search_dir + '/' + search_criteria\n",
    "    file_list = glob.glob(get_files)\n",
    "    return file_list"
   ]
  },
  {
   "cell_type": "code",
   "execution_count": null,
   "metadata": {},
   "outputs": [],
   "source": [
    "def read_pandas(file, delimiter, indexing):\n",
    "    \"\"\" Function requires a file and whether indexing is true (give the column number) or false \n",
    "    It then reads the file(s) into a pandas dataframe\n",
    "    \"\"\"\n",
    "    df = pd.read_csv(file, sep=delimiter, index_col=indexing)\n",
    "    return df"
   ]
  },
  {
   "cell_type": "code",
   "execution_count": null,
   "metadata": {},
   "outputs": [],
   "source": [
    "def add_header(header, file):\n",
    "    \"\"\" What does this function do\n",
    "    \n",
    "    \"\"\"\n",
    "    df = file\n",
    "    df.columns = header\n",
    "    return df"
   ]
  },
  {
   "cell_type": "code",
   "execution_count": null,
   "metadata": {},
   "outputs": [],
   "source": [
    "pwd"
   ]
  },
  {
   "cell_type": "code",
   "execution_count": null,
   "metadata": {},
   "outputs": [],
   "source": [
    "ls"
   ]
  },
  {
   "cell_type": "code",
   "execution_count": null,
   "metadata": {},
   "outputs": [],
   "source": [
    "# create header from file\n",
    "header_file = read_pandas('gapminder_data/gapminder_by_country/country.cc.txt','\\t', False)\n",
    "# rename some columns\n",
    "header_row = header_file.rename(columns={'pop':'population'})\n",
    "#list(header_file.columns)\n",
    "header = list(header_row.columns)"
   ]
  },
  {
   "cell_type": "code",
   "execution_count": null,
   "metadata": {},
   "outputs": [],
   "source": [
    "# Get all my files \n",
    "my_files = collect_files('gapminder_data/gapminder_by_country', '*.cc.txt')\n",
    "#print(len(my_files))\n",
    "# Remove header file\n",
    "my_files.remove('gapminder_data/gapminder_by_country/country.cc.txt')\n",
    "#print(len(my_files))"
   ]
  },
  {
   "cell_type": "code",
   "execution_count": null,
   "metadata": {},
   "outputs": [],
   "source": [
    "# Loop through all my files\n",
    "for each_file in my_files:\n",
    "    my_data = read_pandas(each_file, '\\t', False) # read each file individualñy\n",
    "    #add_header(header_row, my_data) # function to add header row to dataframe\n",
    "    my_data.columns = header # add header row to dataframe\n",
    "    #print(each_file)\n",
    "    new_name = each_file[:-7] + '.csv' # change file extension to .csv\n",
    "    #print(new_name)\n",
    "    my_data.to_csv(new_name)"
   ]
  },
  {
   "cell_type": "code",
   "execution_count": null,
   "metadata": {},
   "outputs": [],
   "source": [
    "# See pandas dataframe of last processed file\n",
    "my_data"
   ]
  },
  {
   "cell_type": "code",
   "execution_count": null,
   "outputs": [],
   "source": [
    "# See the csv files we created with our script\n",
    "ls gapminder_data/gapminder_by_country/"
   ],
   "metadata": {
    "collapsed": false,
    "pycharm": {
     "name": "#%%\n"
    }
   }
  },
  {
   "cell_type": "code",
   "execution_count": null,
   "outputs": [],
   "source": [
    "# Collect and store the csv files we created with our script into a variable called my_csvs by reusing the\n",
    "# collect_files function we wrote\n",
    "my_csvs = collect_files('gapminder_data/gapminder_by_country/', '*.csv')\n",
    "my_csvs"
   ],
   "metadata": {
    "collapsed": false,
    "pycharm": {
     "name": "#%%\n"
    }
   }
  },
  {
   "cell_type": "code",
   "execution_count": null,
   "outputs": [],
   "source": [
    "# Use the length function to check that all files were created\n",
    "len(my_csvs)"
   ],
   "metadata": {
    "collapsed": false,
    "pycharm": {
     "name": "#%%\n"
    }
   }
  }
 ],
 "metadata": {
  "kernelspec": {
   "display_name": "Python 3",
   "language": "python",
   "name": "python3"
  },
  "language_info": {
   "codemirror_mode": {
    "name": "ipython",
    "version": 3
   },
   "file_extension": ".py",
   "mimetype": "text/x-python",
   "name": "python",
   "nbconvert_exporter": "python",
   "pygments_lexer": "ipython3",
   "version": "3.7.1"
  }
 },
 "nbformat": 4,
 "nbformat_minor": 2
}