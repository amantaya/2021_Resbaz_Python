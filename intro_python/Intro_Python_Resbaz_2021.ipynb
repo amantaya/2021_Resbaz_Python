{
 "cells": [
  {
   "cell_type": "markdown",
   "metadata": {},
   "source": [
    "# An Introduction to Python using Jupyter Notebooks\n",
    "<a id='toc'></a>\n",
    "## Table of Contents:\n",
    "### Introduction\n",
    "* [Python programs are plain text files](#python-programs)\n",
    "* [Use the Jupyter Notebook for editing and running Python](#jn-editing-python) \n",
    "* [How are Jupyter Notebooks stored](#how-its-stored)\n",
    "* [What you need to know](#need-to-know)\n",
    "* [The Notebook has Control and Edit modes](#notebook-modes)\n",
    "* [Use the keyboard and mouse to select and edit cells](#keyboard-mouse)\n",
    "    * [Practice: Run your first Jupyter Notebook cells](#prac-jupyter)\n",
    "\n",
    "### Using Markdown\n",
    "* [The Notebook will turn Markdown into pretty-printed documentation](#markdown)\n",
    "* [How to use Markdown](#how-to-markdown)\n",
    "* [Markdown Exercises](#md-exercises)\n",
    "* [Markdown Exercise Soultions](#md-solutions)\n",
    "\n",
    "### Introduction to Python 1: Data\n",
    "* [Intro to Python 1: Prerequisites](#python-1)\n",
    "* [Programming with Python](#python-introduction)  \n",
    "    * [What is Python and why would I use it?](#python-introduction)\n",
    "    * [Special Characters](#python-sp-char)\n",
    "    * [Variables](#variables)\n",
    "        * [Practice](#prac-variable)\n",
    "        * [Variables can be used in calculations](#variable-calc)\n",
    "    * [Data Types](#data-types)\n",
    "        * [Practice with Strings](#prac-strings)\n",
    "        * [Practice with Numerics](#numbers)\n",
    "        * [Practice with Booleans](#booleans)\n",
    "    * [Python \"Type\" function](#py-type)\n",
    "    * [Lists](#py-lists)\n",
    "    * [Tuples](#py-tuples)\n",
    "    * [Differences between lists and tuples](#lists-vs-tuples)\n",
    "    * [Sets](#py-sets)\n",
    "    * [Dictionaries](#py-dictionaries)\n",
    "* [Python Statements](#py-statements)\n",
    "    * [Conditionals](#py-conditionals)\n",
    "    * [Loops](#py-loops)\n",
    "        * [For Loops](#for-loops)\n",
    "        * [While Loops](#while-loops)\n",
    "* [Pandas: Working with Existing Data](#pandas)\n",
    "    * [Pandas: Importing Data](#read-data)\n",
    "    * [Pandas: Manipulating Data](#manipulate-data)\n",
    "    * [Pandas: Writing Data](#write-data)\n",
    "    * [Pandas: Working with more than file](#all-countries)\n",
    "    * [Pandas: Slicing and selecting values](#slicing)\n",
    "\n",
    "* Python I Exercises\n",
    "    * [Problem 5: Assigning variables and printing values](#prob-variable)\n",
    "    * [Problem 6: Print your first and last name](#py-concatenate)\n",
    "    * [Problem 7: What variable type do I have?](#py-data-type)\n",
    "    * [Problem 8: Creating and Working with Lists](#prob-lists)\n",
    "    * [Problem 9: Creating and Accessing Dictionaries](#prob-dictionaries)\n",
    "    * [Problem 10: Writing Conditional If/Else Statements](#prob-if-else)\n",
    "    * [Problem 11: Reverse the string using a for loop](#prob-str-reverse-loop)\n",
    "    * [Problem 12: Looping through Dictionaries](#prob-dict-loop)\n",
    "    * [Problem 13: Checking assumptions about your data](#prob-unique)\n",
    "    * [Problem 14: Slice and save summary statistics](#summary-stats)\n",
    "* [Python I Exercise Soultions](#py1-solutions)\n",
    "\n",
    "### Introduction to Python 2: A Tool for Programming\n",
    "* [Intro to Python 2: Prerequisites](#python-2)\n",
    "* [Setup if you are joining in for Python II](#python-2-setup)\n",
    "* [Functions:](#functions)\n",
    "    * [Why Use Functions?](#why-functions)\n",
    "    * [Let's revist the reverse string and turn it into a function](#str-reverse-func)\n",
    "    * [Let's look at a real world example of where constants could be used in functions](#temp-func)\n",
    "* [Scripting](#scripting)\n",
    "* Python II Exercises\n",
    "* [Python II Exercise Soultions](#py2-solutions)\n",
    "\n",
    "### Common Errors\n",
    "* [Common Errors](#errors)\n",
    "\n"
   ]
  },
  {
   "cell_type": "markdown",
   "metadata": {},
   "source": [
    "<a id='python-programs'></a>\n",
    "### Python programs are plain text files\n",
    "[Table of Contents](#toc)\n",
    "*   They have the `.py` extension to let everyone (including the operating system) \n",
    "    know it is a Python program.\n",
    "    *   This is convention, not a requirement.\n",
    "*   It's common to write them using a text editor but we are going to use a [Jupyter Notebook](http://jupyter.org/).\n",
    "*   There is a bit of extra setup, but it is well worth it because Jupyter Notebooks provide code completion\n",
    "    and other helpful features such as markdown integration. This means you can take notes in this notebook while we are working throughout the session.\n",
    "*   There are some pitfalls that can also cause confusion if we are unaware of them. While code generally runs from top to bottom, a Jupyter Notebook allows you to run items out of sequence. The order of code blocks running order will appear as a number to the left of the code text field.\n",
    "*   Notebook files have the extension `.ipynb` to distinguish them from plain-text Python programs.\n",
    "\n",
    "<a id='jn-editing-python'></a>\n",
    "### Use the Jupyter Notebook for editing and running Python\n",
    "[Table of Contents](#toc)\n",
    "*   The [Anaconda package manager](http://www.anaconda.com) is an automated way to install the Jupyter notebook.\n",
    "    *   See [the setup instructions]({{ site.github.url }}/setup/) for Anaconda installation \n",
    "        instructions.\n",
    "*   It also installs all the extra libraries it needs to run.\n",
    "*   Once you have installed Python and the Jupyter Notebook requirements, open a shell and type:\n",
    "\n",
    "> `jupyter notebook`\n",
    "\n",
    "*   This will start a Jupyter Notebook server and open your default web browser. \n",
    "*   The server runs locally on your machine only and does not use an internet connection.\n",
    "*   The server sends messages to your browser.\n",
    "*   The server does the work and the web browser renders the notebook.\n",
    "*   You can type code into the browser and see the result when the web page talks to the server.\n",
    "*   This has several advantages:\n",
    "\t- You can easily type, edit, and copy and paste blocks of code.\n",
    "\t- Tab completion allows you to easily access the names of things you are \n",
    "    using and learn more about them.\n",
    "\t- It allows you to annotate your code with links, different sized text, bullets, \n",
    "    etc to make it more accessible to you and your collaborators.\n",
    "\t- It allows you to display figures next to the code that produces them to \n",
    "    tell a complete story of the analysis.\n",
    "    - **Note: This will modify and delete files on your local machine.**\n",
    "*   The notebook is stored as JSON but can be saved as a .py file if you would\n",
    "    like to run it from the bash shell or a python interpreter.\n",
    "*   Just like a webpage, the saved notebook looks different to what you see when \n",
    "    it gets rendered by your browser.\n",
    "    \n",
    "<a id='how-its-stored'></a>\n",
    "### How are Jupyter Notebooks Stored\n",
    "[Table of Contents](#toc)\n",
    "*   The notebook file is stored in a format called JSON.\n",
    "*   Just like a webpage, what's saved looks different from what you see in your browser.\n",
    "*   But this format allows Jupyter to mix software (in several languages) with documentation and graphics, all in one file.\n",
    "\n",
    "<a id='need-to-know'></a>\n",
    "### What you need to know for today's lesson\n",
    "[Table of Contents](#toc)\n",
    "**Jupyter Notebook options when running locally:**\n",
    "![jn_options.png](jn_options.png)\n",
    "\n",
    "**Jupyter Notebook options when running in Binder:**\n",
    "![jn_binder_options.png](jn_binder_options.png)\n",
    "\n",
    "*   Commands are only run when you tell them to run.  Some lessons require you to run their code in order.\n",
    "*   The File menu has an option called \"Revert to Checkpoint\".  Use that to reset your file in case you delete something on accident.\n",
    "*   The Kernel menu has an options to restart the interpreter and clear the output. \n",
    "*   The Run button will send the code in the selected cell to the interpreter.\n",
    "*   The command pallate function will show you and let you set hotkeys.\n",
    "*   Saving to browser storage is the button with a cloud and downward facing arrow. Click on this button frequently\n",
    "to save progress as we go.\n",
    "*   Restoring from browser storage is the button with a cloud and upward facing arrow. Click on this button if you\n",
    "are disconnected or Binder quits working after you have refreshed the page. This will load your previously save work.\n",
    "\n",
    "<a id='notebook-modes'></a>\n",
    "### The Notebook has Control and Edit modes.\n",
    "[Table of Contents](#toc)\n",
    "*   Open a new notebook from the dropdown menu in the top right corner of the file browser page.\n",
    "*   Each notebook contains one or more cells of various types.\n",
    "\n",
    "> ## Code vs. Markdown\n",
    ">\n",
    "> We often use the term \"code\" to mean \"the source code of software written in a language such as Python\".\n",
    "> A \"code cell\" in a Jupyter Notebook contains software code or that which is for the computer to read.\n",
    "> A \"markdown cell\" is one that contains ordinary prose written for human beings to read.\n",
    "\n",
    "*   If you press `esc` and `return` keys alternately, the outer border of your code cell will change from blue to green.\n",
    "    *   The difference in color can be subtle, but indicate different modes of you notebook.\n",
    "    *   <span style='color:blue'>Blue</span> is the command mode while <span style='color:green'>Green</span> is the\n",
    "    edit mode.\n",
    "*   If you use the \"esc\" key to make the surrounding box blue (enter into command mode) and then press the \"H\" key, a\n",
    " list of all the shortcut keys will appear.\n",
    "*   When in command mode (esc/blue),\n",
    "    *   The `B key` will make a new cell below the currently selected cell.\n",
    "    *   The `A key` will make one above.\n",
    "    *   The `X key` will delete the current cell.\n",
    "*   There are lots of shortcuts you can try out and most actions can be done with the menus at the top of the page if you forget the shortcuts.\n",
    "*   If you remember the `esc` and `H` shortcuts, you will be able to find all the tools you need to work in a notebook.\n",
    "\n",
    "<a id='keyboard-mouse'></a>\n",
    "### Use the keyboard and mouse to select and edit cells.\n",
    "[Table of Contents](#toc)\n",
    "*   Pressing the `return key turns the surrounding box green to signal edit mode and allows you type in the cell.\n",
    "*   Because we want to be able to write many lines of code in a single cell, pressing the `return` key when the\n",
    "border is green moves the cursor to the next line in the cell just like in a text editor.\n",
    "*   We need some other way to tell the Notebook we want to run what's in the cell.\n",
    "*   Pressing the `shift` and the `return` keys together will execute the contents of the cell.\n",
    "*   Notice that the `return` and `shift` keys on the right of the keyboard are right next to each other."
   ]
  },
  {
   "cell_type": "markdown",
   "metadata": {},
   "source": [
    "<a id='prac-jupyter'></a>\n",
    "### Practice: Running Jupyter Notebook Cell\n",
    "[Table of Contents](#toc)"
   ]
  },
  {
   "cell_type": "code",
   "execution_count": null,
   "metadata": {},
   "outputs": [],
   "source": [
    "# Find the shortcut in the command pallate and run this cell.\n",
    "message = \"run me first\""
   ]
  },
  {
   "cell_type": "markdown",
   "metadata": {},
   "source": [
    "If you ran the above cell correctly, there should be a number **1** inside the square brackets to the left of the cell. **Note:** the number will increase everytime you run the cell."
   ]
  },
  {
   "cell_type": "code",
   "execution_count": null,
   "metadata": {},
   "outputs": [],
   "source": [
    "# Run this cell and see what the output is. \n",
    "print(message)"
   ]
  },
  {
   "cell_type": "markdown",
   "metadata": {},
   "source": [
    "**If the output beneath the cell looks like this:**\n",
    "```python\n",
    "run me first\n",
    "```\n",
    "Then you have run the cells in the correct order and received the expected output. Why did we get this output?\n",
    "\n",
    "**If the output beneath the cell looks like this:**\n",
    "```python\n",
    "---------------------------------------------------------------------------\n",
    "NameError                                 Traceback (most recent call last)\n",
    "<ipython-input-1-a4525a899574> in <module>\n",
    "      1 # Run this cell and see what the output is.\n",
    "----> 2 print(message)\n",
    "\n",
    "NameError: name 'message' is not defined\n",
    "```\n",
    "\n",
    "Then you have received an error. Read the error message to see what went wrong. Here we have a `NameError`because the computer does not know what the variable `message` is. We need to go back to the first code cell and run it correctly first to define the variable `message`. Then we should be able to run the second code cell and receive the first output (prints the string we assigned to the variable `message`).\n",
    "\n",
    "**Getting Error Messages**:\n",
    "Error messages are commonplace for anyone writing code. You should expect to get them frequently and learn how to\n",
    "interpret them as best as possible. Some languages give more descriptive error messages than others, but in both\n",
    "cases you are likely to find the answer with a quick Google search."
   ]
  },
  {
   "cell_type": "markdown",
   "metadata": {},
   "source": [
    "## Using Markdown\n",
    "<a id='markdown'></a>\n",
    "### The Notebook will turn Markdown into pretty-printed documentation.\n",
    "[Table of Contents](#toc)\n",
    "*   Notebooks can also render [Markdown][markdown].\n",
    "    *   A simple plain-text format for writing lists, links and other things that might go into a web page.\n",
    "    *   Equivalently, a subset of HTML that looks like what you would send in an old-fashioned email.\n",
    "*   Turn the current cell into a Markdown cell by entering the command mode (esc/blue) and press the `M key`.\n",
    "*   `In [ ]:` will disappear to show it is no longer a code cell and you will be able to write in Markdown.\n",
    "*   Turn the current cell into a Code cell by entering the command mode (esc/blue) and press the `Y key`."
   ]
  },
  {
   "cell_type": "markdown",
   "metadata": {},
   "source": [
    "<a id='how-to-markdown'></a>\n",
    "### How to use Markdown\n",
    "[Table of Contents](#toc)\n",
    "<div class=\"row\">\n",
    "  <div class=\"col-md-6\" markdown=\"1\">"
   ]
  },
  {
   "cell_type": "markdown",
   "metadata": {},
   "source": [
    "**The asterisk is a special character in markdown. It will create a bulleted list.**\n",
    "```markdown\n",
    "Markdown syntax to produce output below.\n",
    "\n",
    "*   Use asterisks\n",
    "*   to create\n",
    "*   bullet lists.\n",
    "```\n",
    "\n",
    "*   Use asterisks   \n",
    "*   to create  \n",
    "*   bulleted lists.  "
   ]
  },
  {
   "cell_type": "markdown",
   "metadata": {},
   "source": [
    "**But what happens when I want to use asterisk in my text. We can use another special, the back slash `\\`, also known as\n",
    " an escape charatcer. Place the back slash before any markdown special character without a space to use the special character in your text.**\n",
    "```markdown\n",
    "Markdown syntax to produce output below.\n",
    "\n",
    "\\*   Use asterisks\n",
    "\\*   to create\n",
    "\\*   bullet lists.\n",
    "```\n",
    "\n",
    "\\*   Use asterisks  \n",
    "\\*   to create  \n",
    "\\*   bullet lists.\n",
    "\n",
    "Note: Escape characters can change depending on the language you are writing in."
   ]
  },
  {
   "cell_type": "markdown",
   "metadata": {},
   "source": [
    "**Use can use numbers to create a numbered list:**\n",
    "```markdown\n",
    "Markdown syntax to produce numbered lists.\n",
    "1.  Use numbers\n",
    "1.  to create\n",
    "1.  numbered lists.\n",
    "```\n",
    "\n",
    "1.  Use numbers\n",
    "1.  to create\n",
    "1.  numbered lists.\n",
    "\n",
    "Note: That we did not have to type numbers in order but markdown still converted correctly in output. This is nice\n",
    "because it saves us time when we modify or edit lists later because we do not have to renumber the entire list."
   ]
  },
  {
   "cell_type": "markdown",
   "metadata": {},
   "source": [
    "**Using differnt Headings to keep consistency through document:**\n",
    "```markdown\n",
    "Markdown syntax to produce headings.\n",
    "\n",
    "# A Level-1 Heading\n",
    "## A Level-2 Heading\n",
    "### A Level-3 Heading\n",
    "```\n",
    "\n",
    "Print version of the three lines of markdown code from above.\n",
    "# A Level-1 Heading\n",
    "## A Level-2 Heading\n",
    "### A Level-3 Heading"
   ]
  },
  {
   "cell_type": "markdown",
   "metadata": {},
   "source": [
    "**Line breaks don't matter. But blank lines create new paragraphs.**\n",
    "```markdown\n",
    "**Markdown syntax:**\n",
    "\n",
    "Line breaks\n",
    "do not matter. _(accomplished by pressing the return key once)_\n",
    "\n",
    "Sometimes though we want to include a line break without starting a new paragraph. We can accomplish this by including two spaces at the end of the line.\n",
    "\n",
    "Here is the first line.  \n",
    "The second line is on the second line but in same paragraph (no blank line).\n",
    "```\n",
    "\n",
    "**Print version of markdown code from above:**\n",
    "\n",
    "Line breaks\n",
    "don't matter. _(accomplished by pressing the return key once)_\n",
    "\n",
    "Sometimes though we want to include a line break without starting a new paragraph. We can accomplish this by including two spaces at the end of the line.\n",
    "\n",
    "Here is the first line.  \n",
    "The second line is on the second line but in same paragraph (no blank line)."
   ]
  },
  {
   "cell_type": "markdown",
   "metadata": {},
   "source": [
    "**Creating links in markdown:**\n",
    "\n",
    "The information inside the `[...]` is what the user will see and the information inside the `(...)` is the pointer or url that the link will take the user to.\n",
    " ```markdown\n",
    "**Markdown Syntax:**\n",
    "\n",
    "[Create links](http://software-carpentry.org) with the following syntax `[...](...)`.\n",
    "Or use [named links][data_carpentry].\n",
    "\n",
    "_Notice the line below only defines the link and is not in printed output. Double click on the cell below this one if you don't believe me._\n",
    "[data_carpentry]: http://datacarpentry.org \n",
    "```"
   ]
  },
  {
   "cell_type": "markdown",
   "metadata": {},
   "source": [
    "**Output of markdown syntax:**\n",
    "\n",
    "[Create links](http://software-carpentry.org) with `[...](...)`.  \n",
    "Or use [named links][data_carpentry].\n",
    "\n",
    "[data_carpentry]: http://datacarpentry.org"
   ]
  },
  {
   "cell_type": "markdown",
   "metadata": {},
   "source": [
    "<a id='md-exercises'></a>\n",
    "## Markdown Exercises\n",
    "[Table of Contents](#toc)"
   ]
  },
  {
   "cell_type": "markdown",
   "metadata": {},
   "source": [
    "### Creating Lists in Markdown\n",
    "<a id='md-exercises-p01'></a>\n",
    "**Problem 1: Creating Lists** Create a nested list in a Markdown cell in a notebook that looks like this:\n",
    "\n",
    "1. Get funding.\n",
    "1. Do work.\n",
    "    *   Design experiment.\n",
    "    *   Collect data.\n",
    "    *   Analyze.\n",
    "1. Write up.\n",
    "1. Publish.\n",
    "\n",
    "**Hint:**_Double click this cell to see the answer._\n",
    "\n",
    "[Solution](#md-solutions-p01)"
   ]
  },
  {
   "cell_type": "markdown",
   "source": [
    "<a id='md-exercises-p02'></a>\n",
    "### Math anyone?\n",
    "**Problem 2: Math in python** What is displayed when a Python cell in a notebook that contains several calculations is executed? For example, what happens when this cell is executed?"
   ],
   "metadata": {
    "collapsed": false,
    "pycharm": {
     "name": "#%% md\n"
    }
   }
  },
  {
   "cell_type": "code",
   "execution_count": 1,
   "outputs": [
    {
     "data": {
      "text/plain": "21"
     },
     "execution_count": 1,
     "metadata": {},
     "output_type": "execute_result"
    }
   ],
   "source": [
    "7 * 3"
   ],
   "metadata": {
    "collapsed": false,
    "pycharm": {
     "name": "#%%\n"
    }
   }
  },
  {
   "cell_type": "markdown",
   "source": [
    "What is displayed when a Python cell in a notebook that contains several calculations is executed? For example, what happens when this cell is executed?"
   ],
   "metadata": {
    "collapsed": false,
    "pycharm": {
     "name": "#%% md\n"
    }
   }
  },
  {
   "cell_type": "code",
   "execution_count": null,
   "metadata": {},
   "outputs": [],
   "source": [
    "7 * 3\n",
    "\n",
    "2 + 1\n",
    "\n",
    "6 * 7 + 12"
   ]
  },
  {
   "cell_type": "markdown",
   "metadata": {},
   "source": [
    "[Solution](#md-solutions-p02)\n",
    "\n",
    "<a id='md-exercises-p03'></a>\n",
    "**Problem 3: Math in markdown** Change an Existing Cell from Code to Markdown\n",
    "\n",
    "What happens if you write some Python in a code cell and then you switch it to a Markdown cell? For example, put the following in a code cell.\n",
    "\n",
    "1. Run the cell below with `shift + return` to be sure that it works as a code cell. _Hint: it should give you the\n",
    "same result as **Problem 2**_.\n",
    "1. Select the cell below and use `escape + M` to switch the cell to Markdown and run it again with `shift + return`. What happened and how might this be useful?"
   ]
  },
  {
   "cell_type": "code",
   "metadata": {
    "pycharm": {
     "name": "#%%\n"
    }
   },
   "source": [
    "7 * 3  \n",
    "2 + 1\n",
    "\n",
    "x = 6 * 7 + 12\n",
    "print(x)"
   ],
   "execution_count": null,
   "outputs": []
  },
  {
   "cell_type": "markdown",
   "source": [
    "Print statements can help us find errors or unexpected results from our code. They allow us to check our assumptions.\n",
    " Does the computer have stored what we think it does?\n",
    "\n",
    "This could also be useful if you wanted to show what the code generating your document looks like. Think code reviews,\n",
    "colleagues, advisors, etc.\n",
    "\n",
    "[Solution](#md-solutions-p03)"
   ],
   "metadata": {
    "collapsed": false,
    "pycharm": {
     "name": "#%% md\n"
    }
   }
  },
  {
   "cell_type": "markdown",
   "metadata": {},
   "source": [
    "<a id='md-exercises-p04'></a>\n",
    "**Problem 4:** Equations\n",
    "    \n",
    "Standard Markdown (such as we’re using for these notes) won’t render equations, but the Notebook will. \n",
    "\n",
    "`$\\Sigma_{i=1}^{N} 2^{-i} \\approx 1$`\n"
   ]
  },
  {
   "cell_type": "markdown",
   "metadata": {},
   "source": [
    "Think about the following questions:\n",
    "1. What will it display?\n",
    "1. What do you think the underscore `_` does?\n",
    "1. What do you think the circumflex `^` does?\n",
    "1. What do you think the dollar sign `$` does?\n",
    "\n",
    "Change the Code cell below containing the equation to a Markdown cell and run it."
   ]
  },
  {
   "cell_type": "code",
   "execution_count": null,
   "metadata": {},
   "outputs": [],
   "source": [
    "$\\Sigma_{i=1}^{N} 2^{-i} \\approx 1$"
   ]
  },
  {
   "cell_type": "markdown",
   "source": [
    "**Note:** If you received a <span style='color:red'> SyntaxError</span>, then you need to change the cell to a Markdown\n",
    "cell and rerun.\n",
    "\n",
    "[Solution](#md-solutions-p04)"
   ],
   "metadata": {
    "collapsed": false,
    "pycharm": {
     "name": "#%% md\n"
    }
   }
  },
  {
   "cell_type": "markdown",
   "metadata": {},
   "source": [
    "<a id='md-solutions'></a>\n",
    "## Markdown Exercise Solutions\n",
    "[Table of Contents](#toc)"
   ]
  },
  {
   "cell_type": "markdown",
   "metadata": {},
   "source": [
    "<a id='md-solutions-p01'></a>\n",
    "### Problem 1: Creating Lists\n",
    "This challenge integrates both the numbered list and bullet list. Note that the bullet list is tabbed over to create the nesting necesary for the list.\n",
    "```markdown\n",
    "**Type the following in your Markdown cell:**\n",
    "1. Get funding.\n",
    "1. Do work.\n",
    "    * Design experiment.\n",
    "    * Collect data.\n",
    "    * Analyze.\n",
    "1. Write up.\n",
    "1. Publish.\n",
    "```\n",
    "[Back to Problem](#md-exercises-p01)"
   ]
  },
  {
   "cell_type": "markdown",
   "metadata": {},
   "source": [
    "<a id='md-solutions-p02'></a>\n",
    "### Problem 2: Math in python\n",
    "The output of running the code cell is 54 because 6 multiplied by 7 is 42 and 42 plus 12 equals 54. This equation was stored as a variable called `x` and the last line executed was `print(x)`, which simply prints out the value of variable `x` at the current time. However, it still did all the other mathematical equations `7*3` and `2+1`, but it did not print them out because we did not ask the computer to do so.\n",
    "\n",
    "[Back to Problem](#md-exercises-p02)"
   ]
  },
  {
   "cell_type": "markdown",
   "metadata": {},
   "source": [
    "<a id='md-solutions-p03'></a>\n",
    "### Problem 3: Math in markdown\n",
    "In step 1, The output of running the code cell is 54 because 6 multiplied by 7 is 42 and 42 plus 12 equals 54. This\n",
    "equation was stored as a variable called `x` and the last line executed was `print(x)`, which simply prints out the\n",
    "value of variable `x` at the current time. However, it still did all the other mathematical equations `7*3` and\n",
    "`2+1`, but it did not print them out because we did not store the value and ask the computer to print them.\n",
    "\n",
    "The Python code gets treated like markdown text. The lines appear as if they are part of one contiguous paragraph.\n",
    "This could be useful to temporarly turn on and off cells in notebooks that get used for multiple purposes. It is also useful when you want to show the code you have written rather than the output of the code execution.\n",
    "```markdown\n",
    "7*3\n",
    "2+1\n",
    "x = 6 * 7 + 12 \n",
    "print(x)\n",
    "```\n",
    "\n",
    "[Back to Problem](#md-exercises-p03)"
   ]
  },
  {
   "cell_type": "markdown",
   "metadata": {},
   "source": [
    "<a id='md-solutions-p04'></a>\n",
    "### Problem 4: Equations\n",
    "`$\\Sigma_{i=1}^{N} 2^{-i} \\approx 1$`\n",
    "\n",
    "$\\Sigma_{i=1}^{N} 2^{-i} \\approx 1$\n",
    "\n",
    "The notebook shows the equation as it would be rendered from latex equation syntax. The dollar sign,`$`, is used to tell markdown that the text in between is a latex equation. If you are not familiar with latex, the underscore, `_`, is used for subscripts and the circumflex, `^`, is used for superscripts. A pair of curly braces, `{` and `}`, is used to group text together so that the statement `i=1` becomes the the subscript and `N` becomes the superscript. Similarly, `-i` is in curly braces to make the whole statement the superscript for `2`. `\\sum` and `\\approx` are latex commands for “sum over” and “approximate” symbols.\n",
    "\n",
    "[anaconda]: https://docs.continuum.io/anaconda/install\n",
    "\n",
    "[markdown]: https://en.wikipedia.org/wiki/Markdown\n",
    "\n",
    "**A common error is to forgot to run the cell as markdown.** The python interpreter does not know what to do with the \\$. Syntax errors generally mean that the user has entered something incorrectly (check for typos before assuming the line of code is wrong altogether.\n",
    "\n",
    "```markdown\n",
    "  File \"<ipython-input-1-a80a20b3c603>\", line 1\n",
    "    $\\Sigma_{i=1}^{N} 2^{-i} \\approx 1$\n",
    "    ^\n",
    "SyntaxError: invalid syntax\n",
    "```\n",
    "\n",
    "[Back to Problem](#md-exercises-p04)"
   ]
  },
  {
   "cell_type": "markdown",
   "metadata": {},
   "source": [
    "<a id='python-1'></a>\n",
    "# Intro to Python I: Data\n",
    "[Table of Contents](#toc)\n",
    "\n",
    "\n",
    "**Prerequisites:** None\n",
    "\n",
    "This workshop will help researchers with no prior programming experience learn how to utilize Python to analyze research data. You will learn how to open data files in Python, complete basic data manipulation tasks and save your work without compromising original data. Oftentimes, researchers find themselves needing to do the same task with different data and you will gain basic experience on how Python can help you make more efficient use of your time.\n",
    "\n",
    "**Learning Objectives:**\n",
    "1. Clean/manipulate data\n",
    "1. Automate repetitive tasks\n",
    "\n",
    "**Learning Outcomes:** you will be able to…\n",
    "1. read data into Pandas dataframe\n",
    "1. use Pandas to manipulate data\n",
    "1. save work to a datafile useable in other programs needed by researcher\n",
    "1. write if/else statements\n",
    "1. build for and while loops"
   ]
  },
  {
   "cell_type": "markdown",
   "metadata": {},
   "source": [
    "<a id='python-introduction'></a>\n",
    "## Programming with Python\n",
    "[Table of Contents](#toc)\n",
    "### What is Python and why would I use it?\n",
    "\n",
    "A programming language is a way of writing commands so that an interpreter or compiler can turn them into machine instructions. Python is just one many different programming languages.\n",
    "\n",
    "Even if you are not using Python in your work, you can use Python to learn the fundamentals of programming that will apply accross languages.\n",
    "\n",
    "**We like using Python in workshops for lots of reasons:**\n",
    "* Widely used in science\n",
    "* It's easy to read and write\n",
    "* Huge supporting community - lots of ways to learn and get help  \n",
    "* This Jupyter Notebook.  Not a lot of languages have this kind of thing (name comes from Julia, Python, and R).\n",
    "\n",
    "<a id='python-sp-char'></a>\n",
    "### Special Characters\n",
    "[Table of Contents](#toc)\n",
    "\n",
    "We have already worked with special characters in markdown. Similarly, python uses certain special characters as part of its syntax. **Note:** special characters are not consistent across languages so make sure you familiarize yourself with the special characters in the languages in which you write code.\n",
    "\n",
    "**Python Special Characters:**\n",
    "\n",
    "* `[` : left `square bracket`\n",
    "* `]` : right `square bracket`\n",
    "* `(` : left `paren` (parentheses)\n",
    "* `)` : right `paren`\n",
    "* `{` : left `curly brace`\n",
    "* `}` : right `curly brace`\n",
    "* `<` : left `angle bracket`\n",
    "* `>` : right `angle bracket`\n",
    "* `-` `dash` (not hyphen. Minus only when used in an equation or formula)\n",
    "* `\"` : `double quote`\n",
    "* `'` : `single quote` (apostrophe)\n",
    "\n",
    "<a id='variables'></a>\n",
    "### Variables\n",
    "[Table of Contents](#toc)\n",
    "\n",
    "Variables are used to store information in the computer that can later be referenced, manipulated and/or used by our programs. Important things to remember about variables include:\n",
    "* We store values inside variables.  \n",
    "* We can refer to variables in other parts of our programs.\n",
    "* In Python, the variable is created when a value is assigned to it.\n",
    "    * Values are assigned to variable names using the equals sign `=`.  \n",
    "* A variable can hold two types of things.  \n",
    "    * Basic data types. For descriptions and details [(See Data Types)](#data-types) \n",
    "    * Objects - ways to structure data and code. In Python, all variables are objects.\n",
    "* Variable naming convention:\n",
    "    * Cannot start with a digit\n",
    "    * Cannot contain spaces, quotation marks, or other punctuation\n",
    "    * Using a descriptive name can make the code easier to read **(You will thank yourself later)**\n",
    "    \n",
    "<a id='prac-variable'></a>\n",
    "### Practice\n",
    "[Table of Contents](#toc)"
   ]
  },
  {
   "cell_type": "code",
   "execution_count": null,
   "metadata": {
    "scrolled": false
   },
   "outputs": [],
   "source": [
    "# What is happening in this code python cell\n",
    "age = 34\n",
    "first_name = 'Drake'"
   ]
  },
  {
   "cell_type": "markdown",
   "metadata": {},
   "source": [
    "In the cell above, Python assigns an age (in this example 34) to a variable `age` and a name (Drake) in quotation marks to a variable `first_name`.\n",
    "\n",
    "If you want to see the stored value of a variable in python, you can display the value by using the print command \n",
    "`print()` with the variable name placed inside the parenthesis."
   ]
  },
  {
   "cell_type": "code",
   "execution_count": null,
   "metadata": {},
   "outputs": [],
   "source": [
    "# what is the current value stored in the variable `age`\n",
    "print(age)"
   ]
  },
  {
   "cell_type": "markdown",
   "metadata": {},
   "source": [
    "**Write a print statement to show the value of variable `first_name` in the code cell below.**"
   ]
  },
  {
   "cell_type": "code",
   "execution_count": null,
   "metadata": {},
   "outputs": [],
   "source": [
    "# Print out the current value stored in the variable `first_name``\n"
   ]
  },
  {
   "cell_type": "markdown",
   "metadata": {},
   "source": [
    "<a id='prob-variable'></a>\n",
    "### Problem 5: Assigning variables and printing values\n",
    "[Table of Contents](#toc)\n",
    "\n",
    "1. Create two new variables called `age` and `first_name` with your own age and name\n",
    "2. Print each variable out to dispaly it's value\n"
   ]
  },
  {
   "cell_type": "code",
   "execution_count": null,
   "metadata": {},
   "outputs": [],
   "source": []
  },
  {
   "cell_type": "markdown",
   "metadata": {},
   "source": [
    "**Extra Credit:** Combine values in a single print command by separating them with commas"
   ]
  },
  {
   "cell_type": "code",
   "execution_count": null,
   "metadata": {},
   "outputs": [],
   "source": [
    "# Insert your variable values into the print statement below\n",
    "print(<insert variable here>, 'is', <insert variable here>, 'years old')"
   ]
  },
  {
   "cell_type": "markdown",
   "metadata": {},
   "source": [
    "The `print` command automatically puts a single space between items to separate them and wraps around to a new line at the end."
   ]
  },
  {
   "cell_type": "markdown",
   "metadata": {},
   "source": [
    "<a id='variable-calc'></a>\n",
    "## Variables can be used in calculations.\n",
    "[Table of Contents](#toc)\n",
    "\n",
    "\n",
    "*   We can use variables in calculations just as if they were values.\n",
    "    *   Remember, we assigned **our own age** to `age` a few lines ago."
   ]
  },
  {
   "cell_type": "code",
   "execution_count": null,
   "metadata": {
    "scrolled": true
   },
   "outputs": [],
   "source": [
    "age = age + 3\n",
    "print('My age in three years:', age)"
   ]
  },
  {
   "cell_type": "markdown",
   "metadata": {},
   "source": [
    "* This now sets our age value **our current age + 3 years**. \n",
    "* We can also add strings together, but it works a bit differently. When you add strings together it is called **concatenating**."
   ]
  },
  {
   "cell_type": "code",
   "execution_count": null,
   "metadata": {},
   "outputs": [],
   "source": [
    "name = \"Sonoran\"\n",
    "full_name = name + \" Desert\"\n",
    "print(full_name)"
   ]
  },
  {
   "cell_type": "markdown",
   "metadata": {},
   "source": [
    "* Notice how I included a space in the quotes before \"Desert\". If we hadn't, we would have had \"SonoranDesert\"\n",
    "* Can we subtract, multiply, or divide strings?"
   ]
  },
  {
   "cell_type": "markdown",
   "metadata": {},
   "source": [
    "<a id='py-concatenate'></a>\n",
    "## Problem 6: Printing your first and last name\n",
    "[Table of Contents](#toc)\n",
    "\n",
    "In the code cell below, create a new variable called last_name with your own last name.\n",
    "Create a second new variable called full_name that is a combination of your first and last name.\n",
    "\n"
   ]
  },
  {
   "cell_type": "code",
   "execution_count": null,
   "metadata": {},
   "outputs": [],
   "source": [
    "# Print full name"
   ]
  },
  {
   "cell_type": "markdown",
   "metadata": {},
   "source": [
    "<a id='data-types'></a>\n",
    "### Data Types\n",
    "[Table of Contents](#toc)\n",
    "\n",
    "**Some data types you will find in almost every language include:**"
   ]
  },
  {
   "cell_type": "markdown",
   "metadata": {},
   "source": [
    "| Data Type| Abbreviation | Type of Information | Examples |\n",
    "| :-| :-| :-| :-|\n",
    "| Strings  | str | characters, words, sentences or paragraphs| 'a' 'b' 'c' 'abc' '0' '3' ';' '?'|\n",
    "| Integers | int | whole numbers | 1 2 3 100 10000 -100 |\n",
    "| Floating point or Float | float | decimals | 10.0 56.9 -3.765 |\n",
    "| Booleans | bool | logical test | True, False |"
   ]
  },
  {
   "cell_type": "markdown",
   "metadata": {},
   "source": [
    "<a id='strings'></a>\n",
    "### Strings\n",
    "[Table of Contents](#toc)\n",
    "\n",
    "One or more characters strung together and enclosed in quotes (single or double): \"Hello World!\""
   ]
  },
  {
   "cell_type": "code",
   "execution_count": null,
   "metadata": {},
   "outputs": [],
   "source": [
    "greeting = \"Hello World!\"\n",
    "print(\"The greeting is:\", greeting)"
   ]
  },
  {
   "cell_type": "code",
   "execution_count": null,
   "metadata": {
    "scrolled": true
   },
   "outputs": [],
   "source": [
    "greeting = 'Hello World!'\n",
    "print('The greeting is:', greeting)"
   ]
  },
  {
   "cell_type": "markdown",
   "metadata": {},
   "source": [
    "#### Need to use single quotes in your string?\n",
    "Use double quotes to make your string."
   ]
  },
  {
   "cell_type": "code",
   "execution_count": null,
   "metadata": {},
   "outputs": [],
   "source": [
    "greeting = \"Hello 'World'!\"\n",
    "print(\"The greeting is:\", greeting)"
   ]
  },
  {
   "cell_type": "markdown",
   "metadata": {},
   "source": [
    "#### Need to use both?"
   ]
  },
  {
   "cell_type": "code",
   "execution_count": null,
   "metadata": {},
   "outputs": [],
   "source": [
    "greeting1 = \"'Hello'\"\n",
    "greeting2 = '\"World\"!'\n",
    "print(\"The greeting is:\", greeting1, greeting2)"
   ]
  },
  {
   "cell_type": "markdown",
   "metadata": {},
   "source": [
    "#### Concatenation"
   ]
  },
  {
   "cell_type": "code",
   "execution_count": null,
   "metadata": {},
   "outputs": [],
   "source": [
    "bear = \"wild\"\n",
    "down = \"cats\"\n",
    "print(bear + down)"
   ]
  },
  {
   "cell_type": "markdown",
   "metadata": {},
   "source": [
    "Why aren't `greeting`, `greeting1`, `greeting2`, `bear`, or `down` enclosed in quotes in the statements above?\n",
    "\n",
    "<a id='prac-strings'></a>\n",
    "### Practice: Strings\n",
    "[Table of Contents](#toc)"
   ]
  },
  {
   "cell_type": "markdown",
   "metadata": {},
   "source": [
    "#### Use an index to get a single character from a string.\n",
    " * The characters (individual letters, numbers, and so on) in a string are ordered.\n",
    " * For example, the string ‘AB’ is not the same as ‘BA’. Because of this ordering, we can treat the string as a list of characters.\n",
    " * Each position in the string (first, second, etc.) is given a number. This number is called an index or sometimes a subscript.\n",
    " * Indices are numbered from 0.  \n",
    " * Use the position’s index in square brackets to get the character at that position."
   ]
  },
  {
   "cell_type": "code",
   "execution_count": null,
   "metadata": {},
   "outputs": [],
   "source": [
    "#  String :        H e l i u m  \n",
    "#  Index Location: 0 1 2 3 4 5\n",
    "\n",
    "atom_name = 'helium'\n",
    "print(atom_name[0], atom_name[3])"
   ]
  },
  {
   "cell_type": "markdown",
   "metadata": {},
   "source": [
    "<a id='numbers'></a>\n",
    "### Numbers\n",
    "[Table of Contents](#toc)\n",
    "\n",
    "* Numbers are stored as numbers (no quotes) and are either integers (whole) or real numbers (decimal).  \n",
    "* In programming, numbers with decimal precision are called floating-point, or float.\n",
    "* Floats use more processing than integers so use them wisely!\n",
    "* Floats and integers come in various sizes but Python switches between them transparently."
   ]
  },
  {
   "cell_type": "code",
   "execution_count": null,
   "metadata": {},
   "outputs": [],
   "source": [
    "my_integer = 10\n",
    "my_float = 10.99998\n",
    "my_value = my_integer\n",
    "\n",
    "print(\"My numeric value:\", my_value)"
   ]
  },
  {
   "cell_type": "markdown",
   "metadata": {},
   "source": [
    "<a id='py-type'></a>\n",
    "### Using Python built-in type() function\n",
    "[Table of Contents](#toc)\n",
    "\n",
    "\n",
    "If you are not sure of what your variables' types are, you can call a python function called `type()` in the same manner as you used `print()` function.\n",
    "Python is an object-oriented language, so any defined variable has a type.  Default common types are **str, int, float, list and tuple.**  We will cover [list](#py-list) and [tuple](#py-tuple) later."
   ]
  },
  {
   "cell_type": "code",
   "execution_count": null,
   "metadata": {},
   "outputs": [],
   "source": [
    "print(\"Type:\", type(age))\n",
    "print(\"Type:\", type(first_name))"
   ]
  },
  {
   "cell_type": "code",
   "execution_count": null,
   "metadata": {},
   "outputs": [],
   "source": [
    "# Print out datatype of variables\n",
    "print(\"my_value Type:\", type(my_value))\n",
    "print(\"my_float Type:\", type(my_float))"
   ]
  },
  {
   "cell_type": "markdown",
   "metadata": {},
   "source": [
    "<a id='booleans'></a>\n",
    "### Boolean\n",
    "[Table of Contents](#toc)\n",
    "\n",
    "* Boolean values are binary, meaning they can only either true or false.\n",
    "* In python True and False (no quotes) are boolean values"
   ]
  },
  {
   "cell_type": "code",
   "execution_count": null,
   "metadata": {},
   "outputs": [],
   "source": [
    "is_true = True\n",
    "is_false = False\n",
    "\n",
    "print(\"My true boolean variable:\", is_true)\n",
    "print(\"Type:\", type(is_false))"
   ]
  },
  {
   "cell_type": "markdown",
   "metadata": {},
   "source": [
    "<a id='py-data-type'></a>\n",
    "### Problem 7: What variable type do I have? \n",
    "[Table of Contents](#toc)\n",
    "\n",
    "size = '1024'  \n",
    "What data type is `size`? Use some of the python you have learned to provide proof of your answer.\n",
    "<ol style=\"list-style-type:lower-alpha\">\n",
    "  <li>float</li>\n",
    "  <li>string</li>\n",
    "  <li>integer</li>\n",
    "  <li>boolean</li>\n",
    "</ol>"
   ]
  },
  {
   "cell_type": "code",
   "execution_count": null,
   "metadata": {},
   "outputs": [],
   "source": [
    "# Write your explanation as a comment and write the python code that outputs support for your answer.\n"
   ]
  },
  {
   "cell_type": "markdown",
   "metadata": {
    "collapsed": true
   },
   "source": [
    "<a id='py-data-structures'></a>\n",
    "## Data Structures\n",
    "[Table of Contents](#toc)\n",
    "\n",
    "Python has many objects that can be used to structure data including:\n",
    "\n",
    "| Object | Data Structure | Mutable |\n",
    "| :- | :- | :- |\n",
    "| List | collections of values held together in brackets | Mutable |\n",
    "| Tuple | collection of grouped values held together in parentheses | Immutable |\n",
    "| Set | collections of unique values held together in curly braces | Mutable |\n",
    "| Dictionary | collections of keys & values held together in curly braces | Mutable |"
   ]
  },
  {
   "cell_type": "markdown",
   "metadata": {},
   "source": [
    "<a id='py-lists'></a>\n",
    "### Lists\n",
    "[Table of Contents](#toc)\n",
    "\n",
    "Lists are collections of values held together in brackets: "
   ]
  },
  {
   "cell_type": "code",
   "execution_count": null,
   "metadata": {},
   "outputs": [],
   "source": [
    "list_of_characters  = ['a', 'b', 'c'] \n",
    "print(list_of_characters)"
   ]
  },
  {
   "cell_type": "markdown",
   "metadata": {},
   "source": [
    "<a id='prob-lists'></a>\n",
    "### Problem 8: Creating and Working with Lists\n",
    "[Table of Contents](#toc)\n",
    "\n",
    "1. Create a new list called list_of_numbers with four numbers in it."
   ]
  },
  {
   "cell_type": "code",
   "execution_count": null,
   "metadata": {},
   "outputs": [],
   "source": [
    "# Print out the list of numbers you created\n"
   ]
  },
  {
   "cell_type": "markdown",
   "metadata": {},
   "source": [
    "* Just like strings, we can access any value in the list by it's position in the list.\n",
    "* **IMPORTANT:** Indexes start at 0\n",
    "    ~~~\n",
    "    list:          ['a', 'b', 'c', 'd']\n",
    "    index location:  0    1    2    3\n",
    "    ~~~"
   ]
  },
  {
   "cell_type": "code",
   "execution_count": null,
   "metadata": {},
   "outputs": [],
   "source": [
    "# Print out the second value in the list list_of_numbers\n"
   ]
  },
  {
   "cell_type": "markdown",
   "metadata": {},
   "source": [
    "2. Once you have created a list you can add more items to it with the append method"
   ]
  },
  {
   "cell_type": "code",
   "execution_count": null,
   "metadata": {},
   "outputs": [],
   "source": [
    "# Append a number to your list_of_numbers\n"
   ]
  },
  {
   "cell_type": "markdown",
   "metadata": {},
   "source": [
    "#### Aside: Sizes of data structures\n",
    "\n",
    "To determine how large (how many values/entries/elements/etc.) any Python data structure has, use the `len()` function"
   ]
  },
  {
   "cell_type": "code",
   "execution_count": null,
   "metadata": {},
   "outputs": [],
   "source": [
    "len(list_of_numbers)"
   ]
  },
  {
   "cell_type": "markdown",
   "metadata": {},
   "source": [
    "Note that you cannot compute the length of a numeric variable:"
   ]
  },
  {
   "cell_type": "code",
   "execution_count": null,
   "metadata": {},
   "outputs": [],
   "source": [
    "len(age)"
   ]
  },
  {
   "cell_type": "markdown",
   "metadata": {},
   "source": [
    "This will give an error: `TypeError: object of type 'int' has no len()`"
   ]
  },
  {
   "cell_type": "markdown",
   "metadata": {},
   "source": [
    "However, `len()` can compute the lengths of strings"
   ]
  },
  {
   "cell_type": "code",
   "execution_count": null,
   "metadata": {},
   "outputs": [],
   "source": [
    "# Get the length of the string\n",
    "print(len('this is a sentence'))"
   ]
  },
  {
   "cell_type": "code",
   "execution_count": null,
   "metadata": {},
   "outputs": [],
   "source": [
    "# You can also get the lengths of strings in a list\n",
    "list_of_strings = [\"Python is Awesome!\", \"Look! I'm programming.\", \"E = mc^2\"]\n",
    "\n",
    "# This will get the length of \"Look! I'm programming.\"\n",
    "print(len(list_of_strings[1]))"
   ]
  },
  {
   "cell_type": "markdown",
   "metadata": {},
   "source": [
    "<a id='py-tuples'></a>\n",
    "### Tuples\n",
    "[Table of Contents](#toc)\n",
    "\n",
    "Tuples are like a List, but **cannot be changed (immutable).**\n",
    "\n",
    "Tuples can be used to represent any collection of data. They work well for things like coordinates."
   ]
  },
  {
   "cell_type": "code",
   "execution_count": null,
   "metadata": {},
   "outputs": [],
   "source": [
    "tuple_of_x_y_coordinates = (3, 4)\n",
    "print (tuple_of_x_y_coordinates)"
   ]
  },
  {
   "cell_type": "markdown",
   "metadata": {},
   "source": [
    "Tuples can have any number of values"
   ]
  },
  {
   "cell_type": "code",
   "execution_count": null,
   "metadata": {},
   "outputs": [],
   "source": [
    "coordinates = (1, 7, 38, 9, 0)\n",
    "print (coordinates)\n",
    "\n",
    "icecream_flavors = (\"strawberry\", \"vanilla\", \"chocolate\")\n",
    "print (icecream_flavors)"
   ]
  },
  {
   "cell_type": "markdown",
   "metadata": {},
   "source": [
    "... and any types of values.\n",
    "\n",
    "Once created, you `cannot add more items to a tuple` (but you can add items to a list).  If we try to append, like we did with lists, we get an error"
   ]
  },
  {
   "cell_type": "code",
   "execution_count": null,
   "metadata": {},
   "outputs": [],
   "source": [
    "icecream_flavors.append('bubblegum')"
   ]
  },
  {
   "cell_type": "markdown",
   "metadata": {},
   "source": [
    "<a id='lists-vs-tuples'></a>\n",
    "### The Difference Between Lists and  Tuples\n",
    "[Table of Contents](#toc)\n",
    "\n",
    "Lists are good for manipulating data sets.  It's easy for the computer to add, remove and sort items.  Sorted tuples are easier to search and index.  This happens because tuples reserve entire blocks of memory to make finding specific locations easier while lists use addressing and force the computer to step through the whole list.\n",
    "![array_vs_list.png](array_vs_list.png)\n",
    "Let's say you want to get to the last item.  The tuple can calculate the location because:\n",
    "\n",
    "(address)=(size of data)×(index of the item)+(original address)\n",
    "\n",
    "This is how zero indexing works.  The computer can do the calculation and jump directly to the address.  The list would need to go through every item in the list to get there.\n",
    "\n",
    "Now lets say you wanted to remove the third item.  Removing it from the tuple requires it to be resized and copied.  Python would even make you do this manually.  Removing the third item in the list is as simple as making the second item point to the fourth.  Python makes this as easy as calling a method on the tuple object."
   ]
  },
  {
   "cell_type": "markdown",
   "metadata": {},
   "source": [
    "<a id='py-sets'></a>\n",
    "### Sets\n",
    "[Table of Contents](#toc)\n",
    "\n",
    "Sets are similar to lists and tuples, but can only contain unique values and are held in braces\n",
    "\n",
    "\n",
    "For example a list could contain multiple exact values"
   ]
  },
  {
   "cell_type": "code",
   "execution_count": null,
   "metadata": {},
   "outputs": [],
   "source": [
    "# In the gapminder data that we will use, we will have data entries for the continents\n",
    "# of each country in the dataset\n",
    "my_list = ['Africa', 'Europe', 'North America', 'Africa', 'Europe', 'North America']\n",
    "print(\"my_list is\", my_list)\n",
    "\n",
    "# A set would only allow for unique values to be held\n",
    "my_set = {'Africa', 'Europe', 'North America', 'Africa', 'Europe', 'North America'}\n",
    "print(\"my_set is\", my_set)"
   ]
  },
  {
   "cell_type": "markdown",
   "metadata": {},
   "source": [
    "Just like lists, you can append to a set using the add() function"
   ]
  },
  {
   "cell_type": "code",
   "execution_count": null,
   "metadata": {},
   "outputs": [],
   "source": [
    "my_set.add('Asia')\n",
    "\n",
    "# Now let's try to append one that is in:\n",
    "my_set.add('Europe')"
   ]
  },
  {
   "cell_type": "markdown",
   "metadata": {},
   "source": [
    "What will the print statements show now in the code cell below?"
   ]
  },
  {
   "cell_type": "code",
   "execution_count": null,
   "metadata": {},
   "outputs": [],
   "source": [
    "print(\"my_list is\", my_list)\n",
    "print(\"my_set is\", my_set)"
   ]
  },
  {
   "cell_type": "markdown",
   "metadata": {},
   "source": [
    "<a id='py-dictionaries'></a>\n",
    "### Dictionaries\n",
    "[Table of Contents](#toc)\n",
    "\n",
    "* Dictionaries are collections of things that you can lookup like in a real dictionary:\n",
    "* Dictionarys can organized into key and value pairs separated by commas (like lists) and surrounded by braces.\n",
    "   * E.g. {key1: value1, key2: value2}\n",
    "   * We call each association a \"key-value pair\".  \n",
    "   \n"
   ]
  },
  {
   "cell_type": "code",
   "execution_count": null,
   "metadata": {},
   "outputs": [],
   "source": [
    "dictionary_of_definitions = {\"aardvark\" : \"The aardvark is a medium-sized, burrowing, nocturnal mammal native to Africa.\",\n",
    "                             \"boat\" : \"A boat is a thing that floats on water\"}"
   ]
  },
  {
   "cell_type": "markdown",
   "metadata": {},
   "source": [
    "We can find the definition of aardvark by giving the dictionary the \"key\" to the definition we want in brackets.\n",
    "\n",
    "In this case the key is the word we want to lookup"
   ]
  },
  {
   "cell_type": "code",
   "execution_count": null,
   "metadata": {},
   "outputs": [],
   "source": [
    "print(\"The definition of aardvark is:\", dictionary_of_definitions[\"aardvark\"]) "
   ]
  },
  {
   "cell_type": "code",
   "execution_count": null,
   "metadata": {},
   "outputs": [],
   "source": [
    "# Print out the definition of a boat\n"
   ]
  },
  {
   "cell_type": "markdown",
   "metadata": {},
   "source": [
    "Just like lists and sets, you can add to dictionaries by doing the following:"
   ]
  },
  {
   "cell_type": "code",
   "execution_count": null,
   "metadata": {},
   "outputs": [],
   "source": [
    "dictionary_of_definitions['ocean'] = \"An ocean is a very large expanse of sea, in particular each of the main areas into which the sea is divided geographically.\"\n",
    "print(dictionary_of_definitions)"
   ]
  },
  {
   "cell_type": "markdown",
   "metadata": {},
   "source": [
    "<a id='prob-dictionaries'></a>\n",
    "### Problem 9: Creating and Accessing Dictionaries\n",
    "[Table of Contents](#toc)\n",
    "\n",
    "1. Create a dictionary called `zoo` with at least three animal types with a different count for each animal.\n",
    "1. `print` out the count of the second animal in your dictionary \n"
   ]
  },
  {
   "cell_type": "code",
   "execution_count": null,
   "metadata": {},
   "outputs": [],
   "source": [
    "# Zoo Dictionary\n"
   ]
  },
  {
   "cell_type": "markdown",
   "metadata": {
    "collapsed": true
   },
   "source": [
    "<a id='py-statements'></a>\n",
    "## Statements\n",
    "[Table of Contents](#toc)\n",
    "\n",
    "\n",
    "OK great.  Now what can we do with all of this?  \n",
    "\n",
    "We can plug everything together with a bit of logic and python language and make a program that can do things like:\n",
    "\n",
    "* process data\n",
    "\n",
    "* parse files\n",
    "\n",
    "* data analysis"
   ]
  },
  {
   "cell_type": "markdown",
   "metadata": {},
   "source": [
    "What kind of logic are we talking about?\n",
    "\n",
    "We are talking about something called a \"logical structure\" which starts at the top (first line) and reads down the page in order\n",
    "\n",
    "In python a logical structure are often composed of statements. Statements are powerful operators that control the flow of your script. There are two main types:\n",
    "\n",
    "* conditionals (if, while)\n",
    "* loops (for, while)\n"
   ]
  },
  {
   "cell_type": "markdown",
   "metadata": {},
   "source": [
    "<a id='py-conditionals'></a>\n",
    "### Conditionals\n",
    "[Table of Contents](#toc)\n",
    "\n",
    "Conditionals are how we make a decision in the program.\n",
    "In python, conditional statements are called if/else statements.\n",
    "\n",
    "* If statement use boolean values to define flow.\n",
    "    * If something is True, do this. Else, do this\n",
    "    * While something is True, do something.\n",
    "    \n",
    "**Building if/else statements in Python:**\n",
    "1. Start first line with `if`  \n",
    "1. Then `some-condition` must be a logical test that can be evaulated as True or False\n",
    "1. End the first line with `:`  \n",
    "1. Indent the next line(s) with `tab` or `4 spaces` (Jupyter does the indent automatically!)\n",
    "    1.  `do-things`: give python commands to execute\n",
    "1. End the statement with `else` and `:` (notice that if and else are in the same indent)  \n",
    "1. Indent the next line(s) with `tab` or `4 spaces` (Jupyter does the indent automatically!)\n",
    "    1. `do-different-things`: give python commands to execute"
   ]
  },
  {
   "cell_type": "markdown",
   "metadata": {},
   "source": [
    "### Comparison operators:\n",
    "\n",
    "`==` equality  \n",
    "`!=` not equal  \n",
    "`>` greater than   \n",
    "`>=` greater than or equal to  \n",
    "`<` less than  \n",
    "`<=` less than or equal to  "
   ]
  },
  {
   "cell_type": "code",
   "execution_count": null,
   "metadata": {},
   "outputs": [],
   "source": [
    "weight = 3.56\n",
    "\n",
    "if weight >= 2:\n",
    "    print(weight,'is greater than or equal to 2')\n",
    "else:\n",
    "    print(weight,'is less than 2')"
   ]
  },
  {
   "cell_type": "markdown",
   "metadata": {},
   "source": [
    "### Membership operators:\n",
    "\n",
    "`in` check to see if data is **present** in some collection  \n",
    "`not in` check to see if data is **absent** from some collection"
   ]
  },
  {
   "cell_type": "code",
   "execution_count": null,
   "metadata": {},
   "outputs": [],
   "source": [
    "groceries=['bread', 'tomato', 'hot sauce', 'cheese']\n",
    "\n",
    "if 'basil' in groceries: \n",
    "    print('Will buy basil')\n",
    "else:\n",
    "    print(\"Don't need basil\")"
   ]
  },
  {
   "cell_type": "code",
   "execution_count": null,
   "metadata": {},
   "outputs": [],
   "source": [
    "# this is the variable that holds the current condition of it_is_daytime \n",
    "# which is True or False \n",
    "it_is_daytime = True \n",
    "\n",
    "# if/else statement that evaluates current value of it_is_daytime variable\n",
    "if it_is_daytime:\n",
    "    print (\"Have a nice day.\")\n",
    "else:\n",
    "    print (\"Have a nice night.\")\n",
    "    \n",
    "# before running this cell\n",
    "# what will happen if we change it_is_daytime to True?\n",
    "# what will happen if we change it_is_daytime to False?"
   ]
  },
  {
   "cell_type": "markdown",
   "metadata": {},
   "source": [
    "* Often if/else statement use a comparison between two values to determine True or False\n",
    "* These comparisons use \"comparison operators\" such as ==, >, and <.\n",
    "* \\>= and <= can be used if you need the comparison to be inclusive.\n",
    "* **NOTE**: Two equal signs `==` is used to compare values, while one equals sign `=` is used to assign a value\n",
    "    * E.g.\n",
    "        \n",
    "        1 > 2 is False<br/>\n",
    "        2 > 2 is False<br/>\n",
    "        2 >= 2 is True<br/>\n",
    "        'abc' == 'abc' is True"
   ]
  },
  {
   "cell_type": "code",
   "execution_count": null,
   "metadata": {},
   "outputs": [],
   "source": [
    "user_name = \"Ben\"\n",
    "\n",
    "if user_name == \"Marnee\":\n",
    "    print (\"Marnee likes to program in Python.\")\n",
    "else:\n",
    "    print (\"We do not know who you are.\")"
   ]
  },
  {
   "cell_type": "markdown",
   "metadata": {},
   "source": [
    "* What if a condition has more than two choices? Does it have to use a boolean?\n",
    "* Python if-statments will let you do that with elif\n",
    "* `elif` stands for \"else if\"\n",
    " "
   ]
  },
  {
   "cell_type": "code",
   "execution_count": null,
   "metadata": {},
   "outputs": [],
   "source": [
    "if user_name == \"Marnee\":\n",
    "    print (\"Marnee likes to program in Python.\")\n",
    "elif user_name == \"Ben\":\n",
    "    print (\"Ben likes maps.\")\n",
    "elif user_name == \"Brian\":\n",
    "    print (\"Brian likes plant genomes\")\n",
    "else:\n",
    "    print (\"We do not know who you are\")\n",
    "    \n",
    "# for each possibility of user_name we have an if or else-if statment to check the \n",
    "# value of the name and print a message accordingly."
   ]
  },
  {
   "cell_type": "markdown",
   "metadata": {},
   "source": [
    "What does the following statement print?\n",
    "\n",
    "    my_num = 42\n",
    "    my_num = 8 + my_num\n",
    "    new_num = my_num / 2\n",
    "    if new_num >= 30:\n",
    "        print(\"Greater than thirty\")\n",
    "    elif my_num == 25:\n",
    "        print(\"Equals 25\")\n",
    "    elif new_num <= 30:\n",
    "        print(\"Less than thirty\")\n",
    "    else:\n",
    "        print(\"Unknown\")"
   ]
  },
  {
   "cell_type": "markdown",
   "metadata": {},
   "source": [
    "<a id='prob-if-else'></a>\n",
    "### Problem 10: Writing Conditional If/Else Statements\n",
    "[Table of Contents](#toc)\n",
    "\n",
    "Check to see if you have more than three entries in the `zoo` dictionary you created earlier. If you do, print \"more than three animals\".  If you don't, print \"three or less animals\""
   ]
  },
  {
   "cell_type": "code",
   "execution_count": null,
   "metadata": {},
   "outputs": [],
   "source": [
    "# write an if/else statement\n"
   ]
  },
  {
   "cell_type": "markdown",
   "metadata": {},
   "source": [
    "Can you modify your code above to tell the user that they have exactly three animals in the dictionary?"
   ]
  },
  {
   "cell_type": "code",
   "execution_count": null,
   "metadata": {},
   "outputs": [],
   "source": [
    "# Modify conditional to include exactly three as potential output"
   ]
  },
  {
   "cell_type": "markdown",
   "metadata": {},
   "source": [
    "<a id='py-loops'></a>\n",
    "### Loops\n",
    "[Table of Contents](#toc)\n",
    "\n",
    "Loops tell a program to do the same thing over and over again until a certain condition is met.  \n",
    "* In python two main loop types: \n",
    "    * For loops\n",
    "    * While loops"
   ]
  },
  {
   "cell_type": "markdown",
   "metadata": {},
   "source": [
    "<a id='for-loops'></a>\n",
    "### For Loops\n",
    "[Table of Contents](#toc)\n",
    "\n",
    "\n",
    "\n",
    "A for loop executes the same command through each value in a collection.\n",
    "\n",
    "Building blocks of a for loop:\n",
    "\n",
    "> `for` each-item `in` variable `:`  \n",
    ">> `do-something`\n",
    "\n",
    "**Building for loops in python:**\n",
    "1. Start the first line with `for`  \n",
    "1. `each-item` is an arbitrary name for each item in the variable/list.  \n",
    "1. Use `in` to indicate the variable that hold the collection of information  \n",
    "1. End the first line with `:`  \n",
    "1. indent the following line(s) with `tab` or `4 spaces` (Jupyter does the indent automatically!)\n",
    "    1. `do-something` give python commands to execute"
   ]
  },
  {
   "cell_type": "markdown",
   "metadata": {},
   "source": [
    "In the example below, `number` is our `each-item` and the `print()` command is our `do-something`."
   ]
  },
  {
   "cell_type": "code",
   "execution_count": null,
   "metadata": {},
   "outputs": [],
   "source": [
    "print(number)"
   ]
  },
  {
   "cell_type": "code",
   "execution_count": null,
   "metadata": {},
   "outputs": [],
   "source": [
    "# Run this cell and see if you figure out what this for loop does\n",
    "for number in range(10): # does not include 10! \n",
    "    print(number)"
   ]
  },
  {
   "cell_type": "markdown",
   "metadata": {},
   "source": [
    "#### LOOPING a set number of times\n",
    "We can do this with the function `range()`. Range automatically creates a list of numbers in a specified range.\n",
    "\n",
    "In the example above, we have a list of 10 numbers starting with 0 and increasing by one until we have 10 numbers. In the example below, we get the same end result although we have give two numbers to `range()`. In the example below we have given the start and end points of the range. **Note: Do not forget about python's zero-indexing**"
   ]
  },
  {
   "cell_type": "code",
   "execution_count": null,
   "metadata": {},
   "outputs": [],
   "source": [
    "# What will be printed\n",
    "for number in range(0,10):\n",
    "    print(number)"
   ]
  },
  {
   "cell_type": "code",
   "execution_count": null,
   "metadata": {},
   "outputs": [],
   "source": [
    "# What will be printed\n",
    "for number in range(1,11):\n",
    "    print(number)"
   ]
  },
  {
   "cell_type": "code",
   "execution_count": null,
   "metadata": {},
   "outputs": [],
   "source": [
    "# What will be printed\n",
    "for number in range(10,0, -1):\n",
    "    print(number)"
   ]
  },
  {
   "cell_type": "code",
   "execution_count": null,
   "metadata": {},
   "outputs": [],
   "source": [
    "# Change the code from the cell above so that python prints 9 to 0 in descending order\n"
   ]
  },
  {
   "cell_type": "code",
   "execution_count": null,
   "metadata": {},
   "outputs": [],
   "source": [
    "total = 0 # global variable\n",
    "\n",
    "for i in range(10):\n",
    "    total=total+i \n",
    "    print(total) "
   ]
  },
  {
   "cell_type": "code",
   "execution_count": null,
   "metadata": {},
   "outputs": [],
   "source": [
    "total=0\n",
    "\n",
    "for i in range(10):\n",
    "    total=total+i\n",
    "\n",
    "print(total)"
   ]
  },
  {
   "cell_type": "markdown",
   "metadata": {},
   "source": [
    "#### Saving Time\n",
    "Looping can save you lots of time. We will look at a simple example to see how it works with lists, but imagine if your list was 100 items long. You do not want to write 100 individual print commands, do you?"
   ]
  },
  {
   "cell_type": "code",
   "execution_count": null,
   "metadata": {},
   "outputs": [],
   "source": [
    "# LOOPING over a collection\n",
    "# LIST\n",
    "\n",
    "# If I want to print a list of fruits, I could write out each print statment like this:\n",
    "print(\"apple\")\n",
    "print(\"banana\")\n",
    "print(\"mango\")\n",
    "\n",
    "# or I could create a list of fruit\n",
    "# loop over the list\n",
    "# and print each item in the list\n",
    "list_of_fruit = [\"apple\", \"banana\", \"mango\"]\n",
    "\n",
    "# this is how we write the loop\n",
    "# \"fruit\" here is a variable that will hold each item in the list, the fruit, as we loop\n",
    "# over the items in the list\n",
    "print (\">>looping>>\")\n",
    "for fruit in list_of_fruit:\n",
    "    print (fruit)"
   ]
  },
  {
   "cell_type": "markdown",
   "metadata": {},
   "source": [
    "#### Creating New Data\n",
    "You can also use loops to create new datasets as well. In the cell below, we use a mathematical operator to create a new list `data_2` where each value is double that of the value in the original list `data`."
   ]
  },
  {
   "cell_type": "code",
   "execution_count": null,
   "metadata": {},
   "outputs": [],
   "source": [
    "data = [35,45,60,1.5,40,50]\n",
    "data_2 = []\n",
    "\n",
    "for i in data:\n",
    "    data_2.append(i*2)\n",
    "    \n",
    "print(data_2)"
   ]
  },
  {
   "cell_type": "markdown",
   "metadata": {},
   "source": [
    "<a id='prob-str-reverse-loop'></a>\n",
    "### Problem 11: Reverse the string using a for loop\n",
    "[Table of Contents](#toc)\n",
    "\n",
    "There are many ways to reverse a string. I want to challenge you to use a for loop. The goal is to practice how to build a for loop (use multiple print statements) to help you understand what is happening in each step."
   ]
  },
  {
   "cell_type": "code",
   "execution_count": null,
   "metadata": {},
   "outputs": [],
   "source": [
    "string = \"waterfall\"\n",
    "reversed_string = \"\"\n",
    "\n",
    "# For loop reverses the string given as input\n",
    "\n",
    "\n",
    "# Print out the both the original and reversed strings"
   ]
  },
  {
   "cell_type": "markdown",
   "metadata": {},
   "source": [
    "**Extra Credit: Accomplish the same task (reverse a string) with out using a for loop.** _Hint: the reversing range example above gives you a clue AND Google always has an answer!_"
   ]
  },
  {
   "cell_type": "code",
   "execution_count": null,
   "metadata": {},
   "outputs": [],
   "source": [
    "# Reversing the string can be done by writing only one more line\n",
    "string = \"waterfall\"\n"
   ]
  },
  {
   "cell_type": "markdown",
   "metadata": {},
   "source": [
    "We can loop over collections of things like lists or dictionaries or we can create a looping structure."
   ]
  },
  {
   "cell_type": "code",
   "execution_count": null,
   "metadata": {},
   "outputs": [],
   "source": [
    "# LOOPING over a collection\n",
    "# DICTIONARY\n",
    "\n",
    "# We can do the same thing with a dictionary and each association in the dictionary\n",
    "\n",
    "fruit_price = {\"apple\" : 0.10, \"banana\" : 0.50, \"mango\" : 0.75}\n",
    "for key, value in fruit_price.items():\n",
    "    print (\"%s price is %s\" % (key, value))"
   ]
  },
  {
   "cell_type": "markdown",
   "metadata": {},
   "source": [
    "<a id='prob-dict-loop'></a>\n",
    "### Problem 12: Looping through Dictionaries\n",
    "[Table of Contents](#toc)\n",
    "\n",
    "1. For each entry in your `zoo` dictionary, print that key"
   ]
  },
  {
   "cell_type": "code",
   "execution_count": null,
   "metadata": {},
   "outputs": [],
   "source": [
    "# print only dictionary keys using a for loop\n"
   ]
  },
  {
   "cell_type": "markdown",
   "metadata": {},
   "source": [
    "2. For each entry in your zoo dictionary, print that value"
   ]
  },
  {
   "cell_type": "code",
   "execution_count": null,
   "metadata": {},
   "outputs": [],
   "source": [
    "# print only dictionary values using a for loop\n"
   ]
  },
  {
   "cell_type": "markdown",
   "metadata": {},
   "source": [
    "3. Can you print both the key and its associated value using a for loop?"
   ]
  },
  {
   "cell_type": "code",
   "execution_count": null,
   "metadata": {},
   "outputs": [],
   "source": [
    "# print dictionary keys and values using a single for loop\n"
   ]
  },
  {
   "cell_type": "markdown",
   "metadata": {},
   "source": [
    "<a id='while-loops'></a>\n",
    "### While Loops\n",
    "[Table of Contents](#toc)\n",
    "\n",
    "Similar to if statements, while loops use a boolean test to either continue looping or break out of the loop."
   ]
  },
  {
   "cell_type": "code",
   "execution_count": null,
   "metadata": {},
   "outputs": [],
   "source": [
    "# While Loops\n",
    "my_num = 10\n",
    "\n",
    "while my_num > 0:\n",
    "    print(\"My number\", my_num)\n",
    "    my_num = my_num - 1"
   ]
  },
  {
   "cell_type": "markdown",
   "metadata": {},
   "source": [
    "NOTE:  While loops can be dangerous, because if you forget to to include an operation that modifies the variable being tested (above, we're subtracting 1 at the end of each loop), it will continue to run forever and you script will never finish."
   ]
  },
  {
   "cell_type": "markdown",
   "metadata": {
    "collapsed": true
   },
   "source": [
    "That is it. With just these data types, structures and logic, you can build a program. We will write program with functions in [Python II: A tool for programming](#python-2)"
   ]
  },
  {
   "cell_type": "markdown",
   "metadata": {},
   "source": [
    "<a id='pandas'></a>\n",
    "## Pandas: Working with Existing Data\n",
    "[Table of Contents](#toc)\n",
    "\n",
    "Thus far, we have been creating our own data as we go along and you are probably thinking \"How in the world can this save me time?\" This next section is going to help you learn how to import data that you already have. [Pandas](https://pandas.pydata.org/docs/) is a python package that is great for doing data manipulation.\n",
    "\n",
    "<a id='read-data'></a>\n",
    "### Pandas: Importing Data\n",
    "[Table of Contents](#toc)\n",
    "\n",
    "**Importing packages:** Pandas is a package that is written for python but is not part of the base python install. In order to use these add on packages, we must first import them. This is conventionally the first thing you do in a script. If I were building a script using Jupyter Notebooks, I generally do all the importing of packages I need for the entire notebook in the first cell.    "
   ]
  },
  {
   "cell_type": "code",
   "execution_count": null,
   "metadata": {},
   "outputs": [],
   "source": [
    "# Import packages\n",
    "import pandas"
   ]
  },
  {
   "cell_type": "markdown",
   "metadata": {},
   "source": [
    "**Note:** pandas is a long name and you will generally find a shortened version of the name in online help resources. As such, we will use the same convention in this workshop. It only requires a small modification to the import statement."
   ]
  },
  {
   "cell_type": "code",
   "execution_count": null,
   "metadata": {},
   "outputs": [],
   "source": [
    "# Import packages\n",
    "import pandas as pd"
   ]
  },
  {
   "cell_type": "markdown",
   "metadata": {},
   "source": [
    "Now that we have access to pandas at our disposal we are ready to import some data. We will be working a freely available dataset called [gapminder](https://www.gapminder.org/). The first data set we are going to look at is called `Afghanistan_Raw`. "
   ]
  },
  {
   "cell_type": "code",
   "execution_count": null,
   "metadata": {},
   "outputs": [],
   "source": [
    "# import from excel spreadsheet\n",
    "afghanistan_xlsx = pd.read_excel('gapminder_data/Afghanistan_Raw.xlsx')\n"
   ]
  },
  {
   "cell_type": "code",
   "execution_count": null,
   "metadata": {},
   "outputs": [],
   "source": [
    "# import from csv file\n",
    "afghanistan_csv = pd.read_csv('gapminder_data/Afghanistan_Raw.csv')"
   ]
  },
  {
   "cell_type": "markdown",
   "metadata": {},
   "source": [
    "The cell above assigns a `variable` to a pandas dataframe. \n",
    "\n",
    "To create a pandas dataframe: \n",
    "1. We use `pd` to tell python that we want to use the pandas package that we imported. \n",
    "1. We use `.read_excel()` or `.read_csv()` to tell pandas what type of file format we are giving it. \n",
    "1. We have given the `relative path` to the file in parentheses.\n",
    "\n",
    "**Relative paths** are your best friend when you want you code to be easily moved or shared with collaborators. They use your current position in the computer's file structure as the starting point. \n",
    "* If you work on a script with relative paths on your work computer, email it to yourself and try to continue working on your personal home computer, it should work because the usernames may be differnt but are bypassed and computer's file structure are the same from the in which we are working.\n",
    "\n",
    "* The `current working directory` is where the Jupyter Notebook is stored unless you manually change it.\n",
    "\n",
    "#### Project Directory\n",
    "\n",
    "Intro_Python_Resbaz_2020.ipynb  \n",
    "    ├── americas_basic_stats.png  \n",
    "    ├── array_vs_list.png  \n",
    "    ├── gapminder_data  \n",
    "    │   ├── Afghanistan_Raw.csv  \n",
    "    │   ├── Afghanistan_Raw.xlsx  \n",
    "    │   └── gapminder_by_country  \n",
    "    ├── gapminder_final.csv  \n",
    "    ├── gapminder_summ_stats.csv  \n",
    "    ├── jn_binder_options.png  \n",
    "    ├── jn_options.png  \n",
    "    ├── oceania_barh.png  \n",
    "    └── two_countries_summ_stats.csv  \n",
    "\n",
    "\n",
    "\n",
    "**Absolute paths** can be useful if the thing you are trying to access is never going to move. They start at the root of the computer's file structure and work out to the file's location. **Note: this includes the computer's username.**\n",
    "* If you work on a script with absolute paths on your work computer, email it to yourself and try to continue working on your personal home computer, it will fail because the usernames and computer's file structure are different.\n",
    "\n",
    "    * My absolute path (work): /Users/**drakeasberry**/Desktop/2020_Resbaz_Python/intro_python\n",
    "    * My absolute path (home): /Users/**drake**/Desktop/2020_Resbaz_Python/intro_python"
   ]
  },
  {
   "cell_type": "code",
   "execution_count": null,
   "metadata": {},
   "outputs": [],
   "source": [
    "print('This is the excel file:\\n\\n', afghanistan_xlsx)\n",
    "print('\\nThis is the csv file:\\n\\n', afghanistan_csv)"
   ]
  },
  {
   "cell_type": "markdown",
   "metadata": {},
   "source": [
    "This prints out each file separatly and I have added a few line break `\\n` just to make it a little easier read when it is printed. However, these may still feel unfamiliar and hard to read for you or your colleagues. If we do not include the data varibale inside the `print()`, then pandas will render a formatted table that is more visually pleasing. Let's look at the difference."
   ]
  },
  {
   "cell_type": "code",
   "execution_count": null,
   "metadata": {},
   "outputs": [],
   "source": [
    "# Use print to label the output, but let pandas render the table\n",
    "print('This is the excel file:')\n",
    "afghanistan_xlsx"
   ]
  },
  {
   "cell_type": "code",
   "execution_count": null,
   "metadata": {},
   "outputs": [],
   "source": [
    "# Use print to label the output, but let pandas render the table\n",
    "print('This is the csv file:')\n",
    "afghanistan_csv"
   ]
  },
  {
   "cell_type": "markdown",
   "metadata": {},
   "source": [
    "<a id='manipulate-data'></a>\n",
    "### Pandas: Manipulating Data\n",
    "[Table of Contents](#toc)\n",
    "\n",
    "As you can see above, both ways of importing data have produced the same results. The type of data file you use is a personal choice, but not one that should be taken for granted. Microsoft Excel is licensed product and not everyone may have access to open `.xlsx` files whereas a `.csv`file is a comma separated values document that can be read by many free text editors. `.csv` files are also genereally smaller than the same information stored in a `.xlsx` file. My preferred choice is using `.csv` files due to smaller size and easier accessibility. "
   ]
  },
  {
   "cell_type": "code",
   "execution_count": null,
   "metadata": {},
   "outputs": [],
   "source": [
    "afghanistan_csv.country.unique()"
   ]
  },
  {
   "cell_type": "code",
   "execution_count": null,
   "metadata": {},
   "outputs": [],
   "source": [
    "# Drop all rows with no values\n",
    "afghanistan_csv.dropna(how='all')"
   ]
  },
  {
   "cell_type": "code",
   "execution_count": null,
   "metadata": {},
   "outputs": [],
   "source": [
    "# What prints now and why?\n",
    "afghanistan_csv"
   ]
  },
  {
   "cell_type": "code",
   "execution_count": null,
   "metadata": {},
   "outputs": [],
   "source": [
    "# If we want to save the operations we need to store it in a variable (we will overwrite the existing one here)\n",
    "afghanistan_csv = afghanistan_csv.dropna(how='all')\n",
    "afghanistan_csv"
   ]
  },
  {
   "cell_type": "code",
   "execution_count": null,
   "metadata": {},
   "outputs": [],
   "source": [
    "# we will store a new dataframe called df to save some typing\n",
    "# we will subset the data to only rows that have a country name\n",
    "df = afghanistan_csv.dropna(subset=['country'])\n",
    "df"
   ]
  },
  {
   "cell_type": "code",
   "execution_count": null,
   "metadata": {},
   "outputs": [],
   "source": [
    "df = df.rename(columns={'pop':'population'})"
   ]
  },
  {
   "cell_type": "code",
   "execution_count": null,
   "metadata": {},
   "outputs": [],
   "source": [
    "# We are only expecting Afghanistan to be the only country in this file\n",
    "# Let's check our assumptions\n",
    "df.country.unique()"
   ]
  },
  {
   "cell_type": "markdown",
   "metadata": {},
   "source": [
    "<a id='prob-unique'></a>\n",
    "### Problem 13: Checking assumptions about your data\n",
    "[Table of Contents](#toc)\n",
    "\n",
    "Investigate the remaining columns to see if you the data is as you except."
   ]
  },
  {
   "cell_type": "code",
   "execution_count": null,
   "metadata": {},
   "outputs": [],
   "source": [
    "# this will give a quick overview of the data frame to give you an idea of where to start looks\n"
   ]
  },
  {
   "cell_type": "code",
   "execution_count": null,
   "metadata": {},
   "outputs": [],
   "source": [
    "# Hint: Check your assumptions about values dataframe\n"
   ]
  },
  {
   "cell_type": "markdown",
   "metadata": {},
   "source": [
    "Our investigation has showed us that some of data has errors but probably still useful if we correct them.\n",
    "* The year column is being read as a float instead of an object (we will not be doing mathematics on years)\n",
    "* The year column still has a missing value\n",
    "* The population column is being read as an object instead of an integer (we may want to do mathematics on population)\n",
    "* The continent column has a typo `Asiaa` and `tbd`\n",
    "\n",
    "Let's see if we can fix these issues together."
   ]
  },
  {
   "cell_type": "code",
   "execution_count": null,
   "metadata": {},
   "outputs": [],
   "source": [
    "# Let's fix the typos in continent column\n",
    "df = df.replace(to_replace =[\"Asiaa\", \"tbd\"], value =\"Asia\")\n",
    "df"
   ]
  },
  {
   "cell_type": "code",
   "execution_count": null,
   "metadata": {},
   "outputs": [],
   "source": [
    "# Let's take a closer look at year column by sorting\n",
    "df.sort_values(by='year')"
   ]
  },
  {
   "cell_type": "markdown",
   "metadata": {},
   "source": [
    "By sorting the dataframe based on year, we can see that the years are incrementing by 5 years. We can also deduce that the year 1982 is missing.  \n",
    "Depending on the data, you will have to make a decision as the researcher:\n",
    "* Are you confident that you can say that you have replaced the value correctly and the rest of the data is good?\n",
    "* Do you delete the data based on the fact that it had missing data?\n",
    "\n",
    "In this case, we are going to replace the missing value with 1982 because we believe it is the right thing to do in this particular case.\n",
    "\n",
    "**Note:** In general, you should be very selective on replacing missing values. "
   ]
  },
  {
   "cell_type": "code",
   "execution_count": null,
   "metadata": {},
   "outputs": [],
   "source": [
    "df['year'] = df['year'].fillna(1982)\n",
    "df"
   ]
  },
  {
   "cell_type": "code",
   "execution_count": null,
   "metadata": {},
   "outputs": [],
   "source": [
    "# Finally, let's fix the datatypes of columns\n",
    "df = df.astype({\"year\": int, \"population\": int})\n",
    "df"
   ]
  },
  {
   "cell_type": "code",
   "execution_count": null,
   "metadata": {},
   "outputs": [],
   "source": [
    "# Let's check to see if it is working the way we think it is\n",
    "df.info()"
   ]
  },
  {
   "cell_type": "markdown",
   "metadata": {},
   "source": [
    "<a id='write-data'></a>\n",
    "### Pandas: Writing Data\n",
    "[Table of Contents](#toc)\n",
    "\n",
    "Now that we have made all the changes necessary, we should save our corrected datafram as a new file."
   ]
  },
  {
   "cell_type": "code",
   "execution_count": null,
   "metadata": {},
   "outputs": [],
   "source": [
    "# Save file with changes we made\n",
    "df.to_csv('gapminder_data/Afghanistan_Fixed.csv')"
   ]
  },
  {
   "cell_type": "markdown",
   "metadata": {},
   "source": [
    "<a id='all-countries'></a>\n",
    "### Pandas: Working with more than file\n",
    "[Table of Contents](#toc)"
   ]
  },
  {
   "cell_type": "code",
   "execution_count": null,
   "metadata": {},
   "outputs": [],
   "source": [
    "#Import pandas library using an alias\n",
    "import pandas as pd\n",
    "# Import glob library which allows us to use regular expressions to select multiple files\n",
    "import glob"
   ]
  },
  {
   "cell_type": "code",
   "execution_count": null,
   "metadata": {},
   "outputs": [],
   "source": [
    "# Let's see where we are within the computer's directory structure\n",
    "# The exclamation point allows us to utilize a bash command in the notebook\n",
    "!pwd"
   ]
  },
  {
   "cell_type": "code",
   "execution_count": null,
   "metadata": {},
   "outputs": [],
   "source": [
    "# Let's see what files and folders are in our current location\n",
    "!ls"
   ]
  },
  {
   "cell_type": "code",
   "execution_count": null,
   "metadata": {},
   "outputs": [],
   "source": [
    "# Let's see what files and folders are in the gapminder_data directory\n",
    "!ls gapminder_data/"
   ]
  },
  {
   "cell_type": "code",
   "execution_count": null,
   "metadata": {},
   "outputs": [],
   "source": [
    "# Let's see what files and folders are in the gapminder_data/gapminder_by_country directory\n",
    "!ls gapminder_data/gapminder_by_country/"
   ]
  },
  {
   "cell_type": "markdown",
   "metadata": {},
   "source": [
    "We worked with one file `Afghanistan` in the previous section, now we will combine everything we have seen to work with all the countries data that we have.\n",
    "\n",
    "1. Find files in `gapminder_data/gapminder_by_country/`  \n",
    "1. Get all filenames into a list  \n",
    "1. Remove `countries.cc.txt`  \n",
    "1. For loop to append file lines into a pandas dataframe  \n",
    "1. Add column names from `countries.cc.txt`  "
   ]
  },
  {
   "cell_type": "code",
   "execution_count": null,
   "metadata": {},
   "outputs": [],
   "source": [
    "# glob.glob will match files in the current directory based on a pattern\n",
    "countries = sorted(glob.glob('gapminder_data/gapminder_by_country/*.cc.txt'))\n",
    "len(countries)"
   ]
  },
  {
   "cell_type": "code",
   "execution_count": null,
   "metadata": {},
   "outputs": [],
   "source": [
    "# Remove header item from item of files\n",
    "# If you try to run this cell more than once, you will get an error \n",
    "# because the item does not exist once it has been removed after the first execution of this cell\n",
    "countries.remove('gapminder_data/gapminder_by_country/country.cc.txt')"
   ]
  },
  {
   "cell_type": "code",
   "execution_count": null,
   "metadata": {},
   "outputs": [],
   "source": [
    "# Check the length of the list to ensure the item was correctly removed\n",
    "len(countries)"
   ]
  },
  {
   "cell_type": "code",
   "execution_count": null,
   "metadata": {},
   "outputs": [],
   "source": [
    "# creating dataframe from a for loop:\n",
    "df = pd.DataFrame()\n",
    "\n",
    "for country in countries:\n",
    "    c=pd.read_csv(country,sep='\\t',header=None)\n",
    "    df=df.append(c,ignore_index=True)\n",
    "\n",
    "# Import header and store as list\n",
    "header = pd.read_csv('gapminder_data/gapminder_by_country/country.cc.txt', sep='\\t')\n",
    "column_names = list(header.columns)\n",
    "\n",
    "# Add header to dataframe created with the loop\n",
    "df.columns = column_names"
   ]
  },
  {
   "cell_type": "code",
   "execution_count": null,
   "metadata": {},
   "outputs": [],
   "source": [
    "# Gives us number of rows and columns\n",
    "df.shape"
   ]
  },
  {
   "cell_type": "code",
   "execution_count": null,
   "metadata": {},
   "outputs": [],
   "source": [
    "# Get summary statistics\n",
    "df.describe()"
   ]
  },
  {
   "cell_type": "code",
   "execution_count": null,
   "metadata": {},
   "outputs": [],
   "source": [
    "# Do you remember how to change column types\n"
   ]
  },
  {
   "cell_type": "code",
   "execution_count": null,
   "metadata": {},
   "outputs": [],
   "source": [
    "# Solution\n",
    "# Do you remember how to change column types\n",
    "df = df.astype({\"year\": str, \"pop\": int})\n",
    "df.describe()"
   ]
  },
  {
   "cell_type": "markdown",
   "metadata": {},
   "source": [
    "Save to summary of the dataframe `to_csv`, create a NEW file name, otherwise will overwrite the files we downloaded!"
   ]
  },
  {
   "cell_type": "code",
   "execution_count": null,
   "metadata": {},
   "outputs": [],
   "source": [
    "df.describe().to_csv('gapminder_summ_stats.csv')"
   ]
  },
  {
   "cell_type": "code",
   "execution_count": null,
   "metadata": {
    "scrolled": true
   },
   "outputs": [],
   "source": [
    "ls"
   ]
  },
  {
   "cell_type": "markdown",
   "metadata": {},
   "source": [
    "<a id='slicing'></a>\n",
    "### Pandas: Slicing and selecting values\n",
    "[Table of Contents](#toc)\n",
    "\n",
    "<div class=\"alert alert-block alert-success\">\n",
    "<b>Pandas Dataframe:</b>   \n",
    "- 2-dimensional representation of a table  \n",
    "- Series is the data-structure Pandas use to represent a column.\n",
    "</div>\n",
    "\n",
    "\n",
    "Because it's a 2D, have to tell which rows and which columns want to select.  "
   ]
  },
  {
   "cell_type": "code",
   "execution_count": null,
   "metadata": {
    "scrolled": true
   },
   "outputs": [],
   "source": [
    "df.head()"
   ]
  },
  {
   "cell_type": "markdown",
   "metadata": {},
   "source": [
    "**`.loc[]` to select values by the name**\n",
    "\n",
    "\n",
    "**`.loc[a:b,i:j]`**, where  \n",
    "    a and b are the rows/countries   \n",
    "    i and j are the columns/years"
   ]
  },
  {
   "cell_type": "markdown",
   "metadata": {},
   "source": [
    "Need to set index first:"
   ]
  },
  {
   "cell_type": "code",
   "execution_count": null,
   "metadata": {},
   "outputs": [],
   "source": [
    "df=df.set_index('country')\n",
    "df"
   ]
  },
  {
   "cell_type": "code",
   "execution_count": null,
   "metadata": {},
   "outputs": [],
   "source": [
    "df.loc['Brazil']"
   ]
  },
  {
   "cell_type": "code",
   "execution_count": null,
   "metadata": {
    "scrolled": true
   },
   "outputs": [],
   "source": [
    "df.loc['Brazil':'Ecuador']"
   ]
  },
  {
   "cell_type": "code",
   "execution_count": null,
   "metadata": {
    "scrolled": true
   },
   "outputs": [],
   "source": [
    "df.loc['Brazil':'Ecuador','year':'lifeExp']"
   ]
  },
  {
   "cell_type": "code",
   "execution_count": null,
   "metadata": {
    "scrolled": true
   },
   "outputs": [],
   "source": [
    "df.loc[['Brazil','Ecuador'],'year':'lifeExp']"
   ]
  },
  {
   "cell_type": "markdown",
   "metadata": {},
   "source": [
    "**`.iloc[]` to select values by the index**\n",
    "\n",
    "\n",
    "**`.iloc[a:b,i:j]`**, where  \n",
    "    a and b are the indexes of rows    \n",
    "    i and j are the indexes of columns"
   ]
  },
  {
   "cell_type": "code",
   "execution_count": null,
   "metadata": {},
   "outputs": [],
   "source": [
    "df.iloc[9:16,:-1]"
   ]
  },
  {
   "cell_type": "markdown",
   "metadata": {},
   "source": [
    "**Observation:**   \n",
    "```\n",
    "-3:-1, omits the final index (column gdpPercap) in the range provided, while a named slice includes the final element.\n",
    "    ```"
   ]
  },
  {
   "cell_type": "code",
   "execution_count": null,
   "metadata": {},
   "outputs": [],
   "source": [
    "df.iloc[[9,16],-3:-1]"
   ]
  },
  {
   "cell_type": "markdown",
   "metadata": {},
   "source": [
    "<a id='summary-stats'></a>\n",
    "### Problem 14: Slice and save summary statistics\n",
    "[Table of Contents](#toc)\n",
    "\n",
    "Select two countries of your interest. Slice the `df` to select only these countries. Then, obtain summary statistics by country, and save to a file."
   ]
  },
  {
   "cell_type": "code",
   "execution_count": null,
   "metadata": {},
   "outputs": [],
   "source": [
    "# pick two countries to subset and save file with a descriptive name\n"
   ]
  },
  {
   "cell_type": "markdown",
   "metadata": {},
   "source": [
    "<a id='py1-solutions'></a>\n",
    "## Python I: Problem Solutions\n",
    "[Table of Contents](#toc)\n",
    "\n",
    "### Problem 5: Assigning variables and printing values\n",
    "1. Create two new variables called `age` and `first_name` with your own age and name\n",
    "2. Print each variable out to dispaly it's value\n"
   ]
  },
  {
   "cell_type": "code",
   "execution_count": null,
   "metadata": {},
   "outputs": [],
   "source": [
    "age = '<your age>'\n",
    "first_name = '<your first name>'\n",
    "print(age)\n",
    "print(first_name)"
   ]
  },
  {
   "cell_type": "markdown",
   "metadata": {},
   "source": [
    "**Extra Credit:** You can also combine values in a single print command by separating them with commas"
   ]
  },
  {
   "cell_type": "code",
   "execution_count": null,
   "metadata": {},
   "outputs": [],
   "source": [
    "# Insert your variable values into the print statement below\n",
    "print(first_name, 'is', age, 'years old')"
   ]
  },
  {
   "cell_type": "markdown",
   "metadata": {},
   "source": [
    "Correct Output:\n",
    "If you received this output, then you correctly assigned new variables and combined them correctly in the print statment. The information represented between `<>` should reflect your personal information at this point.\n",
    "```markdown\n",
    "<your age>\n",
    "<your first name>\n",
    "<your first name> is <your age> years old\n",
    "```\n",
    "\n",
    "If you received this output, then you forget to assign new variables.\n",
    "```markdown\n",
    "34\n",
    "Drake\n",
    "Drake is 34 years old\n",
    "```\n",
    "\n",
    "If you received this output, then you correctly assigned new variables but mixed up the order in the combined print statment.\n",
    "```markdown\n",
    "<your age>\n",
    "<your first name>\n",
    "<your age> is <your first name> years old\n",
    "```"
   ]
  },
  {
   "cell_type": "markdown",
   "metadata": {},
   "source": [
    "### Problem 6: Printing your first and last name\n",
    "\n",
    "In the code cell below, create a new variable called last_name with your own last name.\n",
    "Create a second new variable called full_name that is a combination of your first and last name.\n",
    "\n"
   ]
  },
  {
   "cell_type": "code",
   "execution_count": null,
   "metadata": {},
   "outputs": [],
   "source": [
    "# Print full name\n",
    "first_name = 'Drake'\n",
    "last_name = 'Asberry'\n",
    "\n",
    "print(first_name, last_name)"
   ]
  },
  {
   "cell_type": "markdown",
   "metadata": {},
   "source": [
    "### Problem 7: What variable type do I have? \n",
    "\n",
    "size = '1024'  \n",
    "What data type is `size`? Use some of the python you have learned to provide proof of your answer.\n",
    "<ol style=\"list-style-type:lower-alpha\">\n",
    "  <li>float</li>\n",
    "  <li>string</li>\n",
    "  <li>integer</li>\n",
    "  <li>boolean</li>\n",
    "</ol>"
   ]
  },
  {
   "cell_type": "code",
   "execution_count": null,
   "metadata": {},
   "outputs": [],
   "source": [
    "# Write your explanation as a comment and write the python code that outputs support for your answer.\n",
    "size = '1024'\n",
    "print()"
   ]
  },
  {
   "cell_type": "markdown",
   "metadata": {},
   "source": [
    "### Problem 8: Creating and Working with Lists\n",
    "\n",
    "1. Create a new list called list_of_numbers with four numbers in it."
   ]
  },
  {
   "cell_type": "code",
   "execution_count": null,
   "metadata": {},
   "outputs": [],
   "source": [
    "# Print out the list of numbers you created\n",
    "list_of_numbers = [0, 1, 2, 3]\n",
    "print(list_of_numbers)"
   ]
  },
  {
   "cell_type": "code",
   "execution_count": null,
   "metadata": {},
   "outputs": [],
   "source": [
    "# Print out the second value in the list list_of_numbers\n",
    "print(list_of_characters[1])"
   ]
  },
  {
   "cell_type": "markdown",
   "metadata": {},
   "source": [
    "2. Once you have created a list you can add more items to it with the append method"
   ]
  },
  {
   "cell_type": "code",
   "execution_count": null,
   "metadata": {},
   "outputs": [],
   "source": [
    "# Append a number to your list\n",
    "list_of_numbers.append(5)\n",
    "print(list_of_numbers)"
   ]
  },
  {
   "cell_type": "markdown",
   "metadata": {},
   "source": [
    "### Problem 9: Creating and Accessing Dictionaries\n",
    "\n",
    "1. Create a dictionary called `zoo` with at least three animal types with a different count for each animal.\n",
    "1. `print` out the count of the second animal in your dictionary \n"
   ]
  },
  {
   "cell_type": "code",
   "execution_count": null,
   "metadata": {},
   "outputs": [],
   "source": [
    "# Zoo Dictionary\n",
    "zoo = {'bears':25, 'lions':19, 'monkeys':67}\n",
    "print(zoo['lions'])"
   ]
  },
  {
   "cell_type": "markdown",
   "metadata": {},
   "source": [
    "### Problem 10: Writing Conditional If/Else Statements\n",
    "\n",
    "Check to see if you have more than three entries in the `zoo` dictionary you created earlier. If you do, print \"more than three animals\".  If you don't, print \"three or less animals\""
   ]
  },
  {
   "cell_type": "code",
   "execution_count": null,
   "metadata": {},
   "outputs": [],
   "source": [
    "# write an if/else statement\n",
    "if len(zoo) > 3:\n",
    "    print(\"more than three animals\")\n",
    "else:\n",
    "    print(\"three or less animals\")"
   ]
  },
  {
   "cell_type": "markdown",
   "metadata": {},
   "source": [
    "Can you modify your code above to tell the user that they have exactly three animals in the dictionary?"
   ]
  },
  {
   "cell_type": "code",
   "execution_count": null,
   "metadata": {},
   "outputs": [],
   "source": [
    "# Modify conditional to include exactly three as potential output\n",
    "if len(zoo) > 3:\n",
    "    print(\"more than three animals\")\n",
    "elif len(zoo) < 3:\n",
    "    print(\"less than three animals\")\n",
    "else:\n",
    "    print(\"exactly three animals\")"
   ]
  },
  {
   "cell_type": "markdown",
   "metadata": {},
   "source": [
    "### Problem 11: Reversing Strings\n",
    "\n",
    "There are many ways to reverse a string. I want to challenge you to use a for loop. The goal is to practice how to build a for loop (use multiple print statements) to help you understand what is happening in each step."
   ]
  },
  {
   "cell_type": "code",
   "execution_count": null,
   "metadata": {},
   "outputs": [],
   "source": [
    "string = \"waterfall\"\n",
    "reversed_string = \"\"\n",
    "\n",
    "for char in string:\n",
    "    #print(reversed_string)\n",
    "    reversed_string = char + reversed_string\n",
    "    #print(char)\n",
    "    #print(reversed_string)\n",
    "\n",
    "print('The original string was:', string)\n",
    "print('The reversed string is:', reversed_string)"
   ]
  },
  {
   "cell_type": "markdown",
   "metadata": {},
   "source": [
    "**Extra Credit: Accomplish the same task (reverse a string) with out using a for loop.** _Hint: the reversing range example above gives you a clue AND Google always has an answer!_"
   ]
  },
  {
   "cell_type": "code",
   "execution_count": null,
   "metadata": {},
   "outputs": [],
   "source": [
    "string = \"waterfall\"\n",
    "print(string[::-1])"
   ]
  },
  {
   "cell_type": "markdown",
   "metadata": {},
   "source": [
    "<a id='prob-dict-loop'></a>\n",
    "### Problem 12: Looping through Dictionaries\n",
    "[Table of Contents](#toc)\n",
    "\n",
    "1. For each entry in your `zoo` dictionary, print that key"
   ]
  },
  {
   "cell_type": "code",
   "execution_count": null,
   "metadata": {},
   "outputs": [],
   "source": [
    "# print only dictionary keys using a for loop\n",
    "for key in zoo.keys():\n",
    "    print(key)"
   ]
  },
  {
   "cell_type": "markdown",
   "metadata": {},
   "source": [
    "2. For each entry in your zoo dictionary, print that value"
   ]
  },
  {
   "cell_type": "code",
   "execution_count": null,
   "metadata": {},
   "outputs": [],
   "source": [
    "# print only dictionary values using a for loop\n",
    "for value in zoo.values():\n",
    "    print(value)"
   ]
  },
  {
   "cell_type": "markdown",
   "metadata": {},
   "source": [
    "3. Can you print both the key and its associated value using a for loop?"
   ]
  },
  {
   "cell_type": "code",
   "execution_count": null,
   "metadata": {},
   "outputs": [],
   "source": [
    "# print dictionary keys and values using a single for loop\n",
    "for key, value in zoo.items():\n",
    "    print(key,value)"
   ]
  },
  {
   "cell_type": "markdown",
   "metadata": {},
   "source": [
    "<a id='prob-unique'></a>\n",
    "### Problem 13: Checking assumptions about your data\n",
    "[Table of Contents](#toc)\n",
    "\n",
    "Investigate the remaining columns to see if you the data is as you except."
   ]
  },
  {
   "cell_type": "code",
   "execution_count": null,
   "metadata": {},
   "outputs": [],
   "source": [
    "# this will give a quick overview of the data frame to give you an idea of where to start looks\n",
    "print('total rows in dataframe:', len(df))\n",
    "df.info()"
   ]
  },
  {
   "cell_type": "code",
   "execution_count": null,
   "metadata": {},
   "outputs": [],
   "source": [
    "# Hint: Check your assumptions about values dataframe\n",
    "df.year.unique()\n",
    "columns = list(df.columns)\n",
    "for column in columns:\n",
    "    unique_val = eval('df.' + column + '.unique()')\n",
    "    print(column, ':\\nunique values:\\n', unique_val, '\\n\\n')"
   ]
  },
  {
   "cell_type": "markdown",
   "metadata": {},
   "source": [
    "### Problem 14: Slice and save summary statistics\n",
    "\n",
    "Select two countries of your interest. Slice the `df` to select only these countries. Then, obtain summary statistics by country, and save to a file."
   ]
  },
  {
   "cell_type": "code",
   "execution_count": null,
   "metadata": {},
   "outputs": [],
   "source": [
    "# My Solution\n",
    "subset=df.loc[['China','Germany'],'pop':]\n",
    "subset.describe().to_csv('china_germany_summ_stats.csv')\n",
    "subset"
   ]
  },
  {
   "cell_type": "markdown",
   "metadata": {},
   "source": [
    "<a id='python-2'></a>\n",
    "## Intro to Python II: A Tool for Programming \n",
    "[Table of Contents](#toc)\n",
    "    \n",
    "**Prerequisites:** Intro to Python 1: Data OR knowledge of another programming language \n",
    "\n",
    "This workshop will help attendees build on previous knowledge of Python or other programming language in order to harness the powers of Python to make your computer work for you. You will learn how to write their own Python functions, save their code as scripts that can be called from future projects and build a workflow to chain multiple scripts together.\n",
    "\n",
    "**Learning Objectives:**\n",
    "1. Understand the syntax of python functions\n",
    "1. Understand the basics of scripting in python\n",
    "1. Understand data analysis cycles\n",
    "\n",
    "**Learning Outcomes:** you will be able to…\n",
    "1. Write your own functions\n",
    "1. Save code as a script\n",
    "1. Build a workflow"
   ]
  },
  {
   "cell_type": "markdown",
   "metadata": {},
   "source": [
    "<a id='python-2-setup'></a>\n",
    "## Setup if you are joining in for Python II\n",
    "[Table of Contents](#toc)\n",
    "\n",
    "**Run the next three code cells to have the data you need to work with in this section.**"
   ]
  },
  {
   "cell_type": "code",
   "execution_count": null,
   "metadata": {},
   "outputs": [],
   "source": [
    "# import libraries \n",
    "import pandas as pd"
   ]
  },
  {
   "cell_type": "code",
   "execution_count": null,
   "metadata": {},
   "outputs": [],
   "source": [
    "# Create a dictionary with rainfall, temperature and pressure\n",
    "data={'rainfall_inches':[1.34,1.56,4.33],\n",
    "      'temperature_F':[75,80,96],\n",
    "      'pressure_psi':[10,2,35]}\n",
    "data"
   ]
  },
  {
   "cell_type": "code",
   "execution_count": null,
   "metadata": {},
   "outputs": [],
   "source": [
    "string = \"waterfall\"\n",
    "print(string[::-1])"
   ]
  },
  {
   "cell_type": "markdown",
   "metadata": {},
   "source": [
    "<a id='functions'></a>\n",
    "## Functions:\n",
    "[Table of Contents](#toc)\n",
    "\n",
    "Create your own functions, especially if you need to make the same operation many times. This will make you code cleaner.\n",
    "\n",
    "* Functions are known by many names in other languages. Most commonly methods and subroutines.\n",
    "* A function has a contract that guarantees certain output based on certain input(s)\n",
    "* Variables get passed into the function\n",
    "* The function then preforms actions based on the variables that are passed\n",
    "* A new value is returned from the function\n",
    "\n",
    "In python we are able to define a function with `def`. First you define the function and later you call the defined function. \n",
    "\n",
    "Here we define a function that we will call \"add_two_numbers\"\n",
    "* def add_two_numbers():"
   ]
  },
  {
   "cell_type": "code",
   "execution_count": null,
   "metadata": {},
   "outputs": [],
   "source": [
    "# this defines our function\n",
    "def add_two_numbers():\n",
    "    answer = 50 + 15\n",
    "    return answer"
   ]
  },
  {
   "cell_type": "code",
   "execution_count": null,
   "metadata": {},
   "outputs": [],
   "source": [
    "# this calls the function and stores in the variable `x`\n",
    "x = add_two_numbers()\n",
    "x"
   ]
  },
  {
   "cell_type": "markdown",
   "metadata": {},
   "source": [
    "That function seems a little silly because we could just add 50 and 15 easier than defining a function to do it for us. However, imagine 50 was some constant that we need to add observations to. Now we could rewrite the function to accept an observation to add to our constant of 50."
   ]
  },
  {
   "cell_type": "code",
   "execution_count": null,
   "metadata": {},
   "outputs": [],
   "source": [
    "# this defines our function\n",
    "# the \"num1\" inside the parentheses means it is expecting us to pass a value to the function when we call it\n",
    "def add_to_constant(num1):\n",
    "    answer = 50 + num1\n",
    "    return answer"
   ]
  },
  {
   "cell_type": "code",
   "execution_count": null,
   "metadata": {},
   "outputs": [],
   "source": [
    "# this calls the function and stores in the variable `x`\n",
    "# the value we want to pass goes inside the parentheses in the call\n",
    "y = add_to_constant(10)\n",
    "y"
   ]
  },
  {
   "cell_type": "markdown",
   "metadata": {},
   "source": [
    "Change the value that you pass to the function to see how it works.\n",
    "<a id='why-functions'></a>\n",
    "### Why Use Functions?\n",
    "[Table of Contents](#toc)\n",
    "\n",
    "Functions let us break down our programs into smaller bits that can be reused and tested.\n",
    "\n",
    "Human beings can only keep a few items in working memory at a time.\n",
    "Understand larger/more complicated ideas by understanding and combining pieces.\n",
    "Functions serve the same purpose in programs.\n",
    "Encapsulate complexity so that we can treat it as a single “thing”.\n",
    "Enables reusablility.\n",
    "Write one time, use many times.\n",
    "\n",
    "1. Testability\n",
    "\n",
    "* Imagine a really big program with lots of lines of code. There is a problem somewhere in the code because you are not getting the results you expect\n",
    "\n",
    "* How do you find the problem in your code?\n",
    "    * If your program is composed of lots of small functions that only do one thing then you can test each function individually.\n",
    "\n",
    "2. Reusability\n",
    "\n",
    "* Imagine a really big program with lots of lines of code. There is a section of code you want to use in a different part of the program.\n",
    "\n",
    "* How do you reuse that part of the code?\n",
    "    * If you just have one big program then you have to copy and paste that bit of code where you want it to go, but if that bit was a function, you could just use that function.\n",
    "\n",
    "3. Writing cleaner code\n",
    "\n",
    "* Always keep both of these concepts in mind when writing programs.\n",
    "* Write small functions that do one thing\n",
    "* Never have one giant function that does a million things.\n",
    "* A well written script is composed of lots of functions that do one thing"
   ]
  },
  {
   "cell_type": "markdown",
   "metadata": {},
   "source": [
    "<a id='str-reverse-func'></a>\n",
    "### Let's revist the reverse string and turn it into a function\n",
    "[Table of Contents](#toc)"
   ]
  },
  {
   "cell_type": "code",
   "execution_count": null,
   "metadata": {},
   "outputs": [],
   "source": [
    "def reverse_text(string):\n",
    "    \"\"\"Function to reverse text in strings.\n",
    "    \n",
    "    \"\"\"\n",
    "    result=string[::-1]\n",
    "    return result"
   ]
  },
  {
   "cell_type": "code",
   "execution_count": null,
   "metadata": {},
   "outputs": [],
   "source": [
    "reverse_text(\"waterfall\")"
   ]
  },
  {
   "cell_type": "code",
   "execution_count": null,
   "metadata": {},
   "outputs": [],
   "source": [
    "# you can also pass a variable to function\n",
    "original='pool'\n",
    "reverse_text(original)"
   ]
  },
  {
   "cell_type": "markdown",
   "metadata": {},
   "source": [
    "<a id='temp-func'></a>\n",
    "### Let's look at a real world example of where constants could be used in functions\n",
    "[Table of Contents](#toc)"
   ]
  },
  {
   "cell_type": "code",
   "execution_count": null,
   "metadata": {},
   "outputs": [],
   "source": [
    "def convert_temp(temperature,unit):\n",
    "    \"\"\"Function to convert temperature from F to C, and vice-versa.\n",
    "    Need temperature (integer or float) and unit (string, uppercase F or C)\n",
    "    \n",
    "    \"\"\"\n",
    "    t=int(temperature)\n",
    "    u=str(unit)\n",
    "    \n",
    "    if u == 'C':\n",
    "        fahr=(9/5*t)+32\n",
    "        print('{}C is {}F'.format(t,int(fahr)))\n",
    "    \n",
    "    elif u == 'F': # or else:\n",
    "        celsius=(t-32)*5/9\n",
    "        print('{}F is {}C'.format(t,int(celsius)))"
   ]
  },
  {
   "cell_type": "code",
   "execution_count": null,
   "metadata": {},
   "outputs": [],
   "source": [
    "convert_temp(85,'C')"
   ]
  },
  {
   "cell_type": "code",
   "execution_count": null,
   "metadata": {},
   "outputs": [],
   "source": [
    "convert_temp?"
   ]
  },
  {
   "cell_type": "code",
   "execution_count": null,
   "metadata": {},
   "outputs": [],
   "source": [
    "# will demonstrate this depending on time\n",
    "\n",
    "def convert_temp2():\n",
    "    \"\"\"Function to convert temperature from F to C, and vice-versa.\n",
    "    User input.\n",
    "    \n",
    "    \"\"\"\n",
    "    t=int(input('Enter temperature:'))\n",
    "    u=str(input('Enter unit (F or C):'))\n",
    "    \n",
    "    if u == 'C':\n",
    "        fahr=9/5*t+32\n",
    "        return '{}C is {}F'.format(t,int(fahr))\n",
    "    \n",
    "    elif u == 'F':\n",
    "        celsius=(t-32)*5/9\n",
    "        return '{}F is {}C'.format(t,int(celsius))\n",
    "    \n",
    "    else:\n",
    "        return \"Don't know how to convert...\""
   ]
  },
  {
   "cell_type": "code",
   "execution_count": null,
   "metadata": {},
   "outputs": [],
   "source": [
    "convert_temp2()"
   ]
  },
  {
   "cell_type": "code",
   "execution_count": null,
   "metadata": {},
   "outputs": [],
   "source": [
    "convert_temp2()"
   ]
  },
  {
   "cell_type": "code",
   "execution_count": null,
   "metadata": {
    "scrolled": true
   },
   "outputs": [],
   "source": [
    "convert_temp2()"
   ]
  },
  {
   "cell_type": "markdown",
   "metadata": {},
   "source": [
    "<a id='scripting'></a>\n",
    "## Scripting\n",
    "[Table of Contents](#toc)\n"
   ]
  },
  {
   "cell_type": "markdown",
   "metadata": {},
   "source": [
    "For this section we are going to create a new Jupyter Notebook to ensure we are starting with a clean slate.\n",
    "\n",
    "1. Save your progress in the current notebook.\n",
    "1. `Go to File > New Notebook > Python 3` to start a new notebook."
   ]
  },
  {
   "cell_type": "markdown",
   "metadata": {},
   "source": [
    "<a id='errors'></a>\n",
    "## Common Errors\n",
    "[Table of Contents](#toc)\n",
    "\n"
   ]
  },
  {
   "cell_type": "markdown",
   "metadata": {},
   "source": [
    "### Help yourself"
   ]
  },
  {
   "cell_type": "code",
   "execution_count": null,
   "metadata": {},
   "outputs": [],
   "source": [
    "help(print)"
   ]
  },
  {
   "cell_type": "code",
   "execution_count": null,
   "metadata": {},
   "outputs": [],
   "source": [
    "help(len)"
   ]
  },
  {
   "cell_type": "code",
   "execution_count": null,
   "metadata": {},
   "outputs": [],
   "source": [
    "?len"
   ]
  },
  {
   "cell_type": "code",
   "execution_count": null,
   "metadata": {},
   "outputs": [],
   "source": [
    "?data"
   ]
  },
  {
   "cell_type": "code",
   "execution_count": null,
   "metadata": {},
   "outputs": [],
   "source": [
    "dir(data)"
   ]
  },
  {
   "cell_type": "markdown",
   "metadata": {},
   "source": [
    "```\n",
    "help(your_data_object)\n",
    "dir(your_data_object) \n",
    "```"
   ]
  },
  {
   "cell_type": "markdown",
   "metadata": {},
   "source": [
    "### Variable errors"
   ]
  },
  {
   "cell_type": "code",
   "execution_count": null,
   "metadata": {},
   "outputs": [],
   "source": [
    "# need to create/define a variable before using it\n",
    "chocolate_cake"
   ]
  },
  {
   "cell_type": "code",
   "execution_count": null,
   "metadata": {},
   "outputs": [],
   "source": [
    "# this also includes mispellings...\n",
    "first_name='Nathalia'"
   ]
  },
  {
   "cell_type": "code",
   "execution_count": null,
   "metadata": {},
   "outputs": [],
   "source": [
    "firt_name"
   ]
  },
  {
   "cell_type": "markdown",
   "metadata": {},
   "source": [
    "### Syntax errors"
   ]
  },
  {
   "cell_type": "code",
   "execution_count": null,
   "metadata": {},
   "outputs": [],
   "source": [
    "# Syntax errors: when you forget to close a ) \n",
    "## EOF - end of file\n",
    "## means that the end of your source code was reached before all code blocks were completed\n",
    "print(len(first_name)"
   ]
  },
  {
   "cell_type": "code",
   "execution_count": null,
   "metadata": {},
   "outputs": [],
   "source": [
    "print(len(first_name))"
   ]
  },
  {
   "cell_type": "code",
   "execution_count": null,
   "metadata": {
    "scrolled": true
   },
   "outputs": [],
   "source": [
    "# Syntax errors: when you forgot a , \n",
    "tires=4\n",
    "print('My car has'tires,' tires')"
   ]
  },
  {
   "cell_type": "code",
   "execution_count": null,
   "metadata": {},
   "outputs": [],
   "source": [
    "# Syntax errors: forgot to close a quote ' in a string\n",
    "## EOL = end of line\n",
    "print('My car has',tires,' tires)"
   ]
  },
  {
   "cell_type": "code",
   "execution_count": null,
   "metadata": {},
   "outputs": [],
   "source": [
    "tires=4\n",
    "print('My car has',tires,' tires')"
   ]
  },
  {
   "cell_type": "code",
   "execution_count": null,
   "metadata": {},
   "outputs": [],
   "source": [
    "# Syntax errors: when you forget the colon at the end of a line\n",
    "data=[1,2,3,4]\n",
    "\n",
    "for i in data\n",
    "    print(i**2)"
   ]
  },
  {
   "cell_type": "code",
   "execution_count": null,
   "metadata": {},
   "outputs": [],
   "source": [
    "# Indentation errors: forgot to indent\n",
    "for i in data:\n",
    "print(i**2)"
   ]
  },
  {
   "cell_type": "code",
   "execution_count": null,
   "metadata": {
    "scrolled": true
   },
   "outputs": [],
   "source": [
    "for i in data:\n",
    "    print(i**2)"
   ]
  },
  {
   "cell_type": "markdown",
   "metadata": {},
   "source": [
    "### Index errors"
   ]
  },
  {
   "cell_type": "code",
   "execution_count": null,
   "metadata": {},
   "outputs": [],
   "source": [
    "groceries=['banana','cheese','bread']"
   ]
  },
  {
   "cell_type": "code",
   "execution_count": null,
   "metadata": {},
   "outputs": [],
   "source": [
    "groceries[3]"
   ]
  },
  {
   "cell_type": "markdown",
   "metadata": {},
   "source": [
    "### Character in strings are IMMUTABLE"
   ]
  },
  {
   "cell_type": "code",
   "execution_count": null,
   "metadata": {},
   "outputs": [],
   "source": [
    "fruit='mango'"
   ]
  },
  {
   "cell_type": "code",
   "execution_count": null,
   "metadata": {},
   "outputs": [],
   "source": [
    "fruit[3]"
   ]
  },
  {
   "cell_type": "code",
   "execution_count": null,
   "metadata": {},
   "outputs": [],
   "source": [
    "fruit[3]='G'"
   ]
  },
  {
   "cell_type": "markdown",
   "metadata": {},
   "source": [
    "### Item in list is MUTABLE"
   ]
  },
  {
   "cell_type": "code",
   "execution_count": null,
   "metadata": {},
   "outputs": [],
   "source": [
    "fruits=['mango','cherry']"
   ]
  },
  {
   "cell_type": "code",
   "execution_count": null,
   "metadata": {},
   "outputs": [],
   "source": [
    "fruits[1]"
   ]
  },
  {
   "cell_type": "code",
   "execution_count": null,
   "metadata": {},
   "outputs": [],
   "source": [
    "fruits[1]='apple'"
   ]
  },
  {
   "cell_type": "code",
   "execution_count": null,
   "metadata": {},
   "outputs": [],
   "source": [
    "fruits"
   ]
  },
  {
   "cell_type": "markdown",
   "metadata": {},
   "source": [
    "### Character in item of a list is IMMUTABLE"
   ]
  },
  {
   "cell_type": "code",
   "execution_count": null,
   "metadata": {},
   "outputs": [],
   "source": [
    "fruits[1]"
   ]
  },
  {
   "cell_type": "code",
   "execution_count": null,
   "metadata": {},
   "outputs": [],
   "source": [
    "fruits[1][2]"
   ]
  },
  {
   "cell_type": "code",
   "execution_count": null,
   "metadata": {},
   "outputs": [],
   "source": [
    "fruits[1][2]='P'"
   ]
  }
 ],
 "metadata": {
  "kernelspec": {
   "display_name": "Python 3",
   "language": "python",
   "name": "python3"
  },
  "language_info": {
   "codemirror_mode": {
    "name": "ipython",
    "version": 3
   },
   "file_extension": ".py",
   "mimetype": "text/x-python",
   "name": "python",
   "nbconvert_exporter": "python",
   "pygments_lexer": "ipython3",
   "version": "3.7.1"
  }
 },
 "nbformat": 4,
 "nbformat_minor": 2
}