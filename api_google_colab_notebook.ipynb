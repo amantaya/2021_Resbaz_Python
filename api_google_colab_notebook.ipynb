{
  "nbformat": 4,
  "nbformat_minor": 0,
  "metadata": {
    "colab": {
      "provenance": [],
      "authorship_tag": "ABX9TyP8vVZcbldyd79xfm0kNMR1",
      "include_colab_link": true
    },
    "kernelspec": {
      "name": "python3",
      "display_name": "Python 3"
    },
    "language_info": {
      "name": "python"
    }
  },
  "cells": [
    {
      "cell_type": "markdown",
      "metadata": {
        "id": "view-in-github",
        "colab_type": "text"
      },
      "source": [
        "<a href=\"https://colab.research.google.com/github/amantaya/2021_Resbaz_Python/blob/main/api_google_colab_notebook.ipynb\" target=\"_parent\"><img src=\"https://colab.research.google.com/assets/colab-badge.svg\" alt=\"Open In Colab\"/></a>"
      ]
    },
    {
      "cell_type": "markdown",
      "source": [
        "\n",
        "\n",
        "# Instructions for downloading and processing Vence data using python API.\n",
        "\n",
        "**API Code written by Andrew Antaya University of Arizona and Jameson Brennan South Dakota State University**\n",
        "\n",
        "This is a google colab tutorial for downloading data from the Vence API. Users must have Vence database setup to utilize the code. For additional information on who can access data through the API\n",
        "\n",
        "In addition, a google drive folder must be setup correctly to read in the VF_In_Service.py file containing the API code and the correct output folders setup to save the data. Please view the readme file to see how to setup.\n",
        "\n"
      ],
      "metadata": {
        "id": "Bd_WJvZBuHOM"
      }
    },
    {
      "cell_type": "code",
      "execution_count": null,
      "metadata": {
        "id": "ny5gNuxQiASQ"
      },
      "outputs": [],
      "source": [
        "\n",
        "Instructions for downloading and processing Vence data using python API.\n",
        "API Code written by Andrew Antaya University of Arizona\n",
        "\n",
        "Data processing code written by Jameson Brennan South Dakota State University\n",
        "\n",
        "This is a google colab tutorial for downloading Vence API data. Users must have Vence database setup to utilize the code. In addition, a google drive folder must be setup correctly to read in the VF_In_Service.py file containing the API code and the correct output folders setup to save the data. Please view the readme file to see how to setup."
      ]
    }
  ]
}